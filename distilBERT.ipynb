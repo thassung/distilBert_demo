{
  "cells": [
    {
      "cell_type": "markdown",
      "metadata": {
        "id": "6OIrQEH4dsLo"
      },
      "source": [
        "# [DistilBERT, a distilled version of BERT: smaller, faster, cheaper and lighter](https://arxiv.org/abs/1910.01108)\n",
        "\n",
        "In this lecture, we will explore the architecture of DistilBERT, its key components, and how it can be utilized for various natural language processing tasks. Additionally, we'll discuss its advantages, limitations, and provide hands-on examples to showcase its effectiveness.\n",
        "\n",
        "Reference : [The Theory](https://towardsdatascience.com/distillation-of-bert-like-models-the-code-73c31e8c2b0a) | [Code](https://towardsdatascience.com/distillation-of-bert-like-models-the-theory-32e19a02641f)"
      ]
    },
    {
      "cell_type": "code",
      "execution_count": null,
      "metadata": {
        "colab": {
          "base_uri": "https://localhost:8080/"
        },
        "id": "7XreQVs2dsLq",
        "outputId": "05ee0a32-5a20-4370-9836-97d05f9b10aa"
      },
      "outputs": [],
      "source": [
        "!pip install datasets --upgrade\n",
        "import datasets\n",
        "import transformers\n",
        "import torch\n",
        "datasets.__version__, transformers.__version__, torch.__version__"
      ]
    },
    {
      "cell_type": "code",
      "execution_count": 2,
      "metadata": {
        "colab": {
          "base_uri": "https://localhost:8080/"
        },
        "id": "jFbUsqSXdsLt",
        "outputId": "9231701c-0652-4bd4-8b7a-01f1b1b4eaad"
      },
      "outputs": [
        {
          "name": "stdout",
          "output_type": "stream",
          "text": [
            "cuda\n"
          ]
        }
      ],
      "source": [
        "import torch.nn as nn\n",
        "import torch\n",
        "from tqdm.auto import tqdm\n",
        "import random, math, time\n",
        "\n",
        "device = torch.device('cuda' if torch.cuda.is_available() else 'cpu')\n",
        "print(device)\n",
        "\n",
        "#make our work comparable if restarted the kernel\n",
        "SEED = 1234\n",
        "torch.manual_seed(SEED)\n",
        "torch.backends.cudnn.deterministic = True"
      ]
    },
    {
      "cell_type": "code",
      "execution_count": 3,
      "metadata": {
        "colab": {
          "base_uri": "https://localhost:8080/"
        },
        "id": "Y_XWqggXd39N",
        "outputId": "d4e4024c-b622-4c30-f083-6ebd6faeb748"
      },
      "outputs": [
        {
          "name": "stdout",
          "output_type": "stream",
          "text": [
            "Drive already mounted at /content/drive; to attempt to forcibly remount, call drive.mount(\"/content/drive\", force_remount=True).\n"
          ]
        }
      ],
      "source": [
        "from google.colab import drive\n",
        "drive.mount('/content/drive')"
      ]
    },
    {
      "cell_type": "code",
      "execution_count": 4,
      "metadata": {
        "id": "i3ZZ4q8MdsLu"
      },
      "outputs": [],
      "source": [
        "file_path='/content/drive/MyDrive/Colab Notebooks/NLP/A6'"
      ]
    },
    {
      "cell_type": "markdown",
      "metadata": {
        "id": "qyZEQ727dsLv"
      },
      "source": [
        "## 1. Loading our MNLI part of the GLUE dataset"
      ]
    },
    {
      "cell_type": "code",
      "execution_count": 5,
      "metadata": {
        "colab": {
          "base_uri": "https://localhost:8080/"
        },
        "id": "So6QIY9ydsLv",
        "outputId": "84c3e4c2-542e-41a7-d722-4d44d72f70fa",
        "scrolled": true
      },
      "outputs": [
        {
          "name": "stderr",
          "output_type": "stream",
          "text": [
            "/usr/local/lib/python3.10/dist-packages/huggingface_hub/utils/_token.py:88: UserWarning: \n",
            "The secret `HF_TOKEN` does not exist in your Colab secrets.\n",
            "To authenticate with the Hugging Face Hub, create a token in your settings tab (https://huggingface.co/settings/tokens), set it as secret in your Google Colab and restart your session.\n",
            "You will be able to reuse this secret in all of your notebooks.\n",
            "Please note that authentication is recommended but still optional to access public models or datasets.\n",
            "  warnings.warn(\n"
          ]
        },
        {
          "data": {
            "text/plain": [
              "DatasetDict({\n",
              "    train: Dataset({\n",
              "        features: ['premise', 'hypothesis', 'label', 'idx'],\n",
              "        num_rows: 392702\n",
              "    })\n",
              "    validation_matched: Dataset({\n",
              "        features: ['premise', 'hypothesis', 'label', 'idx'],\n",
              "        num_rows: 9815\n",
              "    })\n",
              "    validation_mismatched: Dataset({\n",
              "        features: ['premise', 'hypothesis', 'label', 'idx'],\n",
              "        num_rows: 9832\n",
              "    })\n",
              "    test_matched: Dataset({\n",
              "        features: ['premise', 'hypothesis', 'label', 'idx'],\n",
              "        num_rows: 9796\n",
              "    })\n",
              "    test_mismatched: Dataset({\n",
              "        features: ['premise', 'hypothesis', 'label', 'idx'],\n",
              "        num_rows: 9847\n",
              "    })\n",
              "})"
            ]
          },
          "execution_count": 5,
          "metadata": {},
          "output_type": "execute_result"
        }
      ],
      "source": [
        "import datasets\n",
        "\n",
        "###1. Load Dataset\n",
        "task_to_keys = {\n",
        "    \"cola\": (\"sentence\", None),\n",
        "    \"mnli\": (\"premise\", \"hypothesis\"),\n",
        "    \"mrpc\": (\"sentence1\", \"sentence2\"),\n",
        "    \"qnli\": (\"question\", \"sentence\"),\n",
        "    \"qqp\": (\"question1\", \"question2\"),\n",
        "    \"rte\": (\"sentence1\", \"sentence2\"),\n",
        "    \"sst2\": (\"sentence\", None),\n",
        "    \"stsb\": (\"sentence1\", \"sentence2\"),\n",
        "    \"wnli\": (\"sentence1\", \"sentence2\"),\n",
        "}\n",
        "\n",
        "task_name = \"mnli\"\n",
        "raw_datasets = datasets.load_dataset(\"glue\", task_name)\n",
        "raw_datasets"
      ]
    },
    {
      "cell_type": "code",
      "execution_count": 6,
      "metadata": {
        "colab": {
          "base_uri": "https://localhost:8080/"
        },
        "id": "oPG_N89RdsLw",
        "outputId": "70430ba0-dbcd-4c03-9458-c5d6c2c16665"
      },
      "outputs": [
        {
          "data": {
            "text/plain": [
              "{'entailment': 0, 'neutral': 1, 'contradiction': 2}"
            ]
          },
          "execution_count": 6,
          "metadata": {},
          "output_type": "execute_result"
        }
      ],
      "source": [
        "label_list = raw_datasets['train'].features['label'].names\n",
        "label2id = {v: i for i, v in enumerate(label_list)}\n",
        "label2id"
      ]
    },
    {
      "cell_type": "code",
      "execution_count": 7,
      "metadata": {
        "colab": {
          "base_uri": "https://localhost:8080/"
        },
        "id": "3XSiMEpIdsLw",
        "outputId": "b33c2a4c-d7d5-4f46-beaa-5afa078e42d2"
      },
      "outputs": [
        {
          "data": {
            "text/plain": [
              "{0: 'entailment', 1: 'neutral', 2: 'contradiction'}"
            ]
          },
          "execution_count": 7,
          "metadata": {},
          "output_type": "execute_result"
        }
      ],
      "source": [
        "id2label = {i: v for v, i in label2id.items()}\n",
        "id2label"
      ]
    },
    {
      "cell_type": "markdown",
      "metadata": {
        "id": "u1N92e0TdsLw"
      },
      "source": [
        "## 2. Model & Tokenization"
      ]
    },
    {
      "cell_type": "code",
      "execution_count": 8,
      "metadata": {
        "colab": {
          "base_uri": "https://localhost:8080/"
        },
        "id": "MdbnSLCsdsLx",
        "outputId": "7f9b180a-864c-459a-cf32-2485baebef0f"
      },
      "outputs": [
        {
          "data": {
            "text/plain": [
              "3"
            ]
          },
          "execution_count": 8,
          "metadata": {},
          "output_type": "execute_result"
        }
      ],
      "source": [
        "import numpy as np\n",
        "num_labels = np.unique(raw_datasets['train']['label']).size\n",
        "num_labels"
      ]
    },
    {
      "cell_type": "markdown",
      "metadata": {
        "id": "HzBlzYOPdsLx"
      },
      "source": [
        "<img src = \"figures/BERT_embed.png\" width=500>"
      ]
    },
    {
      "cell_type": "code",
      "execution_count": 9,
      "metadata": {
        "colab": {
          "base_uri": "https://localhost:8080/"
        },
        "id": "KuAIl_HndsLy",
        "outputId": "81ee9341-8468-41d3-c5cd-75b514fb3d7b"
      },
      "outputs": [
        {
          "name": "stderr",
          "output_type": "stream",
          "text": [
            "Some weights of BertForSequenceClassification were not initialized from the model checkpoint at bert-base-uncased and are newly initialized: ['classifier.bias', 'classifier.weight']\n",
            "You should probably TRAIN this model on a down-stream task to be able to use it for predictions and inference.\n"
          ]
        },
        {
          "data": {
            "text/plain": [
              "BertForSequenceClassification(\n",
              "  (bert): BertModel(\n",
              "    (embeddings): BertEmbeddings(\n",
              "      (word_embeddings): Embedding(30522, 768, padding_idx=0)\n",
              "      (position_embeddings): Embedding(512, 768)\n",
              "      (token_type_embeddings): Embedding(2, 768)\n",
              "      (LayerNorm): LayerNorm((768,), eps=1e-12, elementwise_affine=True)\n",
              "      (dropout): Dropout(p=0.1, inplace=False)\n",
              "    )\n",
              "    (encoder): BertEncoder(\n",
              "      (layer): ModuleList(\n",
              "        (0-11): 12 x BertLayer(\n",
              "          (attention): BertAttention(\n",
              "            (self): BertSelfAttention(\n",
              "              (query): Linear(in_features=768, out_features=768, bias=True)\n",
              "              (key): Linear(in_features=768, out_features=768, bias=True)\n",
              "              (value): Linear(in_features=768, out_features=768, bias=True)\n",
              "              (dropout): Dropout(p=0.1, inplace=False)\n",
              "            )\n",
              "            (output): BertSelfOutput(\n",
              "              (dense): Linear(in_features=768, out_features=768, bias=True)\n",
              "              (LayerNorm): LayerNorm((768,), eps=1e-12, elementwise_affine=True)\n",
              "              (dropout): Dropout(p=0.1, inplace=False)\n",
              "            )\n",
              "          )\n",
              "          (intermediate): BertIntermediate(\n",
              "            (dense): Linear(in_features=768, out_features=3072, bias=True)\n",
              "            (intermediate_act_fn): GELUActivation()\n",
              "          )\n",
              "          (output): BertOutput(\n",
              "            (dense): Linear(in_features=3072, out_features=768, bias=True)\n",
              "            (LayerNorm): LayerNorm((768,), eps=1e-12, elementwise_affine=True)\n",
              "            (dropout): Dropout(p=0.1, inplace=False)\n",
              "          )\n",
              "        )\n",
              "      )\n",
              "    )\n",
              "    (pooler): BertPooler(\n",
              "      (dense): Linear(in_features=768, out_features=768, bias=True)\n",
              "      (activation): Tanh()\n",
              "    )\n",
              "  )\n",
              "  (dropout): Dropout(p=0.1, inplace=False)\n",
              "  (classifier): Linear(in_features=768, out_features=3, bias=True)\n",
              ")"
            ]
          },
          "execution_count": 9,
          "metadata": {},
          "output_type": "execute_result"
        }
      ],
      "source": [
        "from transformers import AutoModelForSequenceClassification\n",
        "from transformers import AutoTokenizer\n",
        "\n",
        "teacher_id = \"bert-base-uncased\"\n",
        "tokenizer = AutoTokenizer.from_pretrained(teacher_id)\n",
        "\n",
        "teacher_model = AutoModelForSequenceClassification.from_pretrained(\n",
        "    teacher_id,\n",
        "    num_labels = num_labels,\n",
        "    id2label = id2label,\n",
        "    label2id = label2id,\n",
        ")\n",
        "\n",
        "teacher_model"
      ]
    },
    {
      "cell_type": "markdown",
      "metadata": {
        "id": "uMzlJMDLdsLy"
      },
      "source": [
        "## 3. Preprocessing"
      ]
    },
    {
      "cell_type": "code",
      "execution_count": 10,
      "metadata": {
        "id": "drTAyg7pdsLy"
      },
      "outputs": [],
      "source": [
        "def tokenize_function(examples):\n",
        "    sentence1_key, sentence2_key = task_to_keys[task_name]\n",
        "    args = (\n",
        "        (examples[sentence1_key],) if sentence2_key is None else (examples[sentence1_key], examples[sentence2_key])\n",
        "    )\n",
        "    result = tokenizer(*args, max_length=128, truncation=True)\n",
        "    return result"
      ]
    },
    {
      "cell_type": "code",
      "execution_count": 11,
      "metadata": {
        "colab": {
          "base_uri": "https://localhost:8080/",
          "height": 431,
          "referenced_widgets": [
            "0c72f3b40eba407e8586ae8174b7195d",
            "7448c6fd8f654cb8920ca0756fa387aa",
            "750af2102fd4422296eef76064f1a4c8",
            "5bcf7f93874342b4a7059a472071a7f5",
            "8b54e4a5867f44dc8f8d9751d88627bc",
            "72a8f19258714af1a57e9360cdf6a5c2",
            "a975b3e2cce84618893c69fa99651ac0",
            "ba09eb8879c74e3f9fdcc5ce611f938b",
            "305d5a59e42648d0a94fee3b3bfbeccc",
            "69282827025c412db233e6b41ceebb28",
            "35cedb5405cc4fb2b382114d4c798650"
          ]
        },
        "id": "0y0LQRYQdsLz",
        "outputId": "99422fd0-240f-4c64-a869-310f8e49a069"
      },
      "outputs": [
        {
          "data": {
            "application/vnd.jupyter.widget-view+json": {
              "model_id": "0c72f3b40eba407e8586ae8174b7195d",
              "version_major": 2,
              "version_minor": 0
            },
            "text/plain": [
              "Map:   0%|          | 0/9796 [00:00<?, ? examples/s]"
            ]
          },
          "metadata": {},
          "output_type": "display_data"
        },
        {
          "data": {
            "text/plain": [
              "DatasetDict({\n",
              "    train: Dataset({\n",
              "        features: ['premise', 'hypothesis', 'label', 'idx', 'input_ids', 'token_type_ids', 'attention_mask'],\n",
              "        num_rows: 392702\n",
              "    })\n",
              "    validation_matched: Dataset({\n",
              "        features: ['premise', 'hypothesis', 'label', 'idx', 'input_ids', 'token_type_ids', 'attention_mask'],\n",
              "        num_rows: 9815\n",
              "    })\n",
              "    validation_mismatched: Dataset({\n",
              "        features: ['premise', 'hypothesis', 'label', 'idx', 'input_ids', 'token_type_ids', 'attention_mask'],\n",
              "        num_rows: 9832\n",
              "    })\n",
              "    test_matched: Dataset({\n",
              "        features: ['premise', 'hypothesis', 'label', 'idx', 'input_ids', 'token_type_ids', 'attention_mask'],\n",
              "        num_rows: 9796\n",
              "    })\n",
              "    test_mismatched: Dataset({\n",
              "        features: ['premise', 'hypothesis', 'label', 'idx', 'input_ids', 'token_type_ids', 'attention_mask'],\n",
              "        num_rows: 9847\n",
              "    })\n",
              "})"
            ]
          },
          "execution_count": 11,
          "metadata": {},
          "output_type": "execute_result"
        }
      ],
      "source": [
        "tokenized_datasets = raw_datasets.map(tokenize_function, batched=True)\n",
        "tokenized_datasets"
      ]
    },
    {
      "cell_type": "code",
      "execution_count": 12,
      "metadata": {
        "colab": {
          "base_uri": "https://localhost:8080/"
        },
        "id": "I374I4QEdsLz",
        "outputId": "54f61ae5-b486-46c4-f67a-25704f1023f6"
      },
      "outputs": [
        {
          "data": {
            "text/plain": [
              "['premise', 'hypothesis']"
            ]
          },
          "execution_count": 12,
          "metadata": {},
          "output_type": "execute_result"
        }
      ],
      "source": [
        "# list(task_to_keys[task_name])\n",
        "column_dataset = [item for item in task_to_keys[task_name] if item is not None]\n",
        "column_dataset"
      ]
    },
    {
      "cell_type": "code",
      "execution_count": 13,
      "metadata": {
        "colab": {
          "base_uri": "https://localhost:8080/"
        },
        "id": "x1O5ZR7idsLz",
        "outputId": "c9972893-cd54-4fcd-8561-2d5d441e5f40"
      },
      "outputs": [
        {
          "data": {
            "text/plain": [
              "DatasetDict({\n",
              "    train: Dataset({\n",
              "        features: ['labels', 'input_ids', 'token_type_ids', 'attention_mask'],\n",
              "        num_rows: 392702\n",
              "    })\n",
              "    validation_matched: Dataset({\n",
              "        features: ['labels', 'input_ids', 'token_type_ids', 'attention_mask'],\n",
              "        num_rows: 9815\n",
              "    })\n",
              "    validation_mismatched: Dataset({\n",
              "        features: ['labels', 'input_ids', 'token_type_ids', 'attention_mask'],\n",
              "        num_rows: 9832\n",
              "    })\n",
              "    test_matched: Dataset({\n",
              "        features: ['labels', 'input_ids', 'token_type_ids', 'attention_mask'],\n",
              "        num_rows: 9796\n",
              "    })\n",
              "    test_mismatched: Dataset({\n",
              "        features: ['labels', 'input_ids', 'token_type_ids', 'attention_mask'],\n",
              "        num_rows: 9847\n",
              "    })\n",
              "})"
            ]
          },
          "execution_count": 13,
          "metadata": {},
          "output_type": "execute_result"
        }
      ],
      "source": [
        "#remove column : 'premise', 'hypothesis', 'idx'\n",
        "tokenized_datasets = tokenized_datasets.remove_columns(column_dataset + [\"idx\"])\n",
        "#rename column : 'labels'\n",
        "tokenized_datasets = tokenized_datasets.rename_column(\"label\", \"labels\")\n",
        "tokenized_datasets.set_format(\"torch\")\n",
        "tokenized_datasets"
      ]
    },
    {
      "cell_type": "code",
      "execution_count": 14,
      "metadata": {
        "colab": {
          "base_uri": "https://localhost:8080/"
        },
        "id": "PVGfJYUJdsL0",
        "outputId": "149655e0-1eb3-48e1-8db4-7e31f593ea38"
      },
      "outputs": [
        {
          "data": {
            "text/plain": [
              "tensor([  101, 17158,  2135,  6949,  8301, 25057,  2038,  2048,  3937,  9646,\n",
              "         1011,  4031,  1998, 10505,  1012,   102,  4031,  1998, 10505,  2024,\n",
              "         2054,  2191,  6949,  8301, 25057,  2147,  1012,   102])"
            ]
          },
          "execution_count": 14,
          "metadata": {},
          "output_type": "execute_result"
        }
      ],
      "source": [
        "tokenized_datasets['train'][0]['input_ids']"
      ]
    },
    {
      "cell_type": "code",
      "execution_count": 15,
      "metadata": {
        "colab": {
          "base_uri": "https://localhost:8080/",
          "height": 35
        },
        "id": "UkqvVV72dsL0",
        "outputId": "c349ebac-f895-42ec-cd01-94c7415c4924"
      },
      "outputs": [
        {
          "data": {
            "application/vnd.google.colaboratory.intrinsic+json": {
              "type": "string"
            },
            "text/plain": [
              "'[CLS] conceptually cream skimming has two basic dimensions - product and geography. [SEP] product and geography are what make cream skimming work. [SEP]'"
            ]
          },
          "execution_count": 15,
          "metadata": {},
          "output_type": "execute_result"
        }
      ],
      "source": [
        "tokenizer.decode(tokenized_datasets['train'][0]['input_ids'])"
      ]
    },
    {
      "cell_type": "markdown",
      "metadata": {
        "id": "0MYnUjIkdsL0"
      },
      "source": [
        "## 4. Preparing the dataloader"
      ]
    },
    {
      "cell_type": "code",
      "execution_count": 16,
      "metadata": {
        "id": "UnhJBWaddsL0"
      },
      "outputs": [],
      "source": [
        "from transformers import DataCollatorWithPadding\n",
        "data_collator = DataCollatorWithPadding(tokenizer=tokenizer)\n",
        "#Data collator that will dynamically pad the inputs received."
      ]
    },
    {
      "cell_type": "code",
      "execution_count": 17,
      "metadata": {
        "id": "b8jnT0PmdsL0"
      },
      "outputs": [],
      "source": [
        "small_train_dataset = tokenized_datasets[\"train\"].shuffle(seed=1150).select(range(10000))\n",
        "small_eval_dataset = tokenized_datasets[\"validation_mismatched\"].shuffle(seed=1150).select(range(1000))\n",
        "small_test_dataset = tokenized_datasets[\"test_mismatched\"].shuffle(seed=1150).select(range(1000))"
      ]
    },
    {
      "cell_type": "code",
      "execution_count": 18,
      "metadata": {
        "id": "rA4SLAutdsL0"
      },
      "outputs": [],
      "source": [
        "from torch.utils.data import DataLoader\n",
        "train_dataloader = DataLoader(\n",
        "    small_train_dataset, shuffle=True, batch_size=64, collate_fn=data_collator)\n",
        "test_dataloader = DataLoader(\n",
        "    small_test_dataset, batch_size=64, collate_fn=data_collator)\n",
        "eval_dataloader = DataLoader(\n",
        "    small_eval_dataset, batch_size=64, collate_fn=data_collator)"
      ]
    },
    {
      "cell_type": "code",
      "execution_count": 19,
      "metadata": {
        "colab": {
          "base_uri": "https://localhost:8080/"
        },
        "id": "MtQHim8BdsL1",
        "outputId": "51a8799d-44f7-4cd0-cce3-8f422b48d01f"
      },
      "outputs": [
        {
          "data": {
            "text/plain": [
              "(torch.Size([64]), torch.Size([64, 121]), torch.Size([64, 121]))"
            ]
          },
          "execution_count": 19,
          "metadata": {},
          "output_type": "execute_result"
        }
      ],
      "source": [
        "for batch in train_dataloader:\n",
        "    break\n",
        "\n",
        "batch['labels'].shape, batch['input_ids'].shape, batch['attention_mask'].shape"
      ]
    },
    {
      "cell_type": "markdown",
      "metadata": {
        "id": "rY8zHPPCdsL1"
      },
      "source": [
        "## 5. Design the model and losses"
      ]
    },
    {
      "cell_type": "markdown",
      "metadata": {
        "id": "uEh1XxhudsL1"
      },
      "source": [
        "### 5.1 Teacher Model & Student Model\n",
        "\n",
        "####  Architecture\n",
        "In the present work, the student - DistilBERT - has the same general architecture as BERT.\n",
        "- The `token-type embeddings` and the `pooler` are removed while `the number of layers` is reduced by a factor of 2.\n",
        "- Most of the operations used in the Transformer architecture `linear layer` and `layer normalisation` are highly optimized in modern linear algebra frameworks.\n",
        "- our investigations showed that variations on the last dimension of the tensor (hidden size dimension) have a smaller impact on computation efficiency (for a fixed parameters budget) than variations on other factors like the number of layers.\n",
        "- Thus we focus on reducing the number of layers.\n",
        "\n",
        "#### Initialize Student Model\n",
        "- To initialize a new model from an existing one, we need to access the weights of the old model (the teacher).\n",
        "- In order to get the weights, we first have to know how to access them. We’ll use BERT as our teacher model."
      ]
    },
    {
      "cell_type": "code",
      "execution_count": 20,
      "metadata": {
        "colab": {
          "base_uri": "https://localhost:8080/"
        },
        "id": "AL2jLK3CdsL1",
        "outputId": "dc32dec7-d0cf-461a-8b74-cc00c8dd1ef1"
      },
      "outputs": [
        {
          "data": {
            "text/plain": [
              "BertConfig {\n",
              "  \"_name_or_path\": \"bert-base-uncased\",\n",
              "  \"architectures\": [\n",
              "    \"BertForMaskedLM\"\n",
              "  ],\n",
              "  \"attention_probs_dropout_prob\": 0.1,\n",
              "  \"classifier_dropout\": null,\n",
              "  \"gradient_checkpointing\": false,\n",
              "  \"hidden_act\": \"gelu\",\n",
              "  \"hidden_dropout_prob\": 0.1,\n",
              "  \"hidden_size\": 768,\n",
              "  \"id2label\": {\n",
              "    \"0\": \"entailment\",\n",
              "    \"1\": \"neutral\",\n",
              "    \"2\": \"contradiction\"\n",
              "  },\n",
              "  \"initializer_range\": 0.02,\n",
              "  \"intermediate_size\": 3072,\n",
              "  \"label2id\": {\n",
              "    \"contradiction\": 2,\n",
              "    \"entailment\": 0,\n",
              "    \"neutral\": 1\n",
              "  },\n",
              "  \"layer_norm_eps\": 1e-12,\n",
              "  \"max_position_embeddings\": 512,\n",
              "  \"model_type\": \"bert\",\n",
              "  \"num_attention_heads\": 12,\n",
              "  \"num_hidden_layers\": 12,\n",
              "  \"pad_token_id\": 0,\n",
              "  \"position_embedding_type\": \"absolute\",\n",
              "  \"transformers_version\": \"4.38.2\",\n",
              "  \"type_vocab_size\": 2,\n",
              "  \"use_cache\": true,\n",
              "  \"vocab_size\": 30522\n",
              "}"
            ]
          },
          "execution_count": 20,
          "metadata": {},
          "output_type": "execute_result"
        }
      ],
      "source": [
        "teacher_model.config"
      ]
    },
    {
      "cell_type": "markdown",
      "metadata": {
        "id": "Kmbrdy8RdsL1"
      },
      "source": [
        "####\n",
        "- The student model has the same configuration, except the number of layers is reduced by a factor of 2\n",
        "- The student layers are initilized by copying one out of two layers of the teacher, starting with layer 0.\n",
        "- The head of the teacher is also copied."
      ]
    },
    {
      "cell_type": "code",
      "execution_count": 21,
      "metadata": {
        "id": "gdN5gWa_dsL2"
      },
      "outputs": [],
      "source": [
        "from transformers.models.bert.modeling_bert import BertPreTrainedModel, BertConfig\n",
        "# Get teacher configuration as a dictionnary\n",
        "configuration = teacher_model.config.to_dict()\n",
        "# configuration"
      ]
    },
    {
      "cell_type": "code",
      "execution_count": 22,
      "metadata": {
        "id": "nSa85kkydsL2"
      },
      "outputs": [],
      "source": [
        "# Half the number of hidden layer\n",
        "configuration['num_hidden_layers'] //= 2\n",
        "# Convert the dictionnary to the student configuration\n",
        "configuration = BertConfig.from_dict(configuration)"
      ]
    },
    {
      "cell_type": "code",
      "execution_count": null,
      "metadata": {
        "colab": {
          "base_uri": "https://localhost:8080/"
        },
        "id": "X6NQyTnmdsL2",
        "outputId": "d7ed9247-2b09-4b7f-c09e-297a88746627",
        "scrolled": true
      },
      "outputs": [],
      "source": [
        "# Create uninitialized student model\n",
        "model = type(teacher_model)(configuration)\n",
        "model"
      ]
    },
    {
      "cell_type": "markdown",
      "metadata": {
        "id": "cUb94dAHdsL2"
      },
      "source": [
        "- Recursively copies the weights of the (teacher) to the (student).\n",
        "- This function is meant to be first called on a BertFor... model, but is then called on every children of that model recursively.\n",
        "- The only part that's not fully copied is the encoder, of which only half is copied."
      ]
    },
    {
      "cell_type": "code",
      "execution_count": 24,
      "metadata": {
        "id": "F5qolnszOOyr"
      },
      "outputs": [],
      "source": [
        "def create_student_model(configuration):\n",
        "    return type(teacher_model)(configuration)"
      ]
    },
    {
      "cell_type": "code",
      "execution_count": 25,
      "metadata": {
        "id": "U-Z7N1YmdsL2"
      },
      "outputs": [],
      "source": [
        "from transformers.models.bert.modeling_bert import BertEncoder, BertModel\n",
        "from torch.nn import Module\n",
        "\n",
        "def distill_bert_weights(\n",
        "    teacher : Module,\n",
        "    student : Module,\n",
        "    mode = None\n",
        ") -> None:\n",
        "    \"\"\"\n",
        "    Recursively copies the weights of the (teacher) to the (student).\n",
        "    This function is meant to be first called on a BertFor... model, but is then called on every children of that model recursively.\n",
        "    The only part that's not fully copied is the encoder, of which only half is copied.\n",
        "    \"\"\"\n",
        "    # If the part is an entire BERT model or a BERTFor..., unpack and iterate\n",
        "    if isinstance(teacher, BertModel) or type(teacher).__name__.startswith('BertFor'):\n",
        "        for teacher_part, student_part in zip(teacher.children(), student.children()):\n",
        "            distill_bert_weights(teacher_part, student_part, mode=mode)\n",
        "    # Else if the part is an encoder, copy one out of every layer\n",
        "    elif isinstance(teacher, BertEncoder):\n",
        "        teacher_encoding_layers = [layer for layer in next(teacher.children())] #12 layers\n",
        "        student_encoding_layers = [layer for layer in next(student.children())] #6 layers\n",
        "        if mode == 'odd':\n",
        "            for i in range(len(student_encoding_layers)):\n",
        "                student_encoding_layers[i].load_state_dict(teacher_encoding_layers[2*i].state_dict())\n",
        "        elif mode == 'even':\n",
        "            for i in range(len(student_encoding_layers)):\n",
        "                student_encoding_layers[i].load_state_dict(teacher_encoding_layers[2*i+1].state_dict())\n",
        "        elif mode == 'top':\n",
        "            for i in range(len(student_encoding_layers)):\n",
        "                student_encoding_layers[i].load_state_dict(teacher_encoding_layers[i].state_dict())\n",
        "        elif mode == 'bottom':\n",
        "            for i in range(len(student_encoding_layers)):\n",
        "                student_encoding_layers[i].load_state_dict(teacher_encoding_layers[len(student_encoding_layers)+i].state_dict())\n",
        "        else:\n",
        "            raise ValueError(f'Invalid mode: {mode}')\n",
        "    # Else the part is a head or something else, copy the state_dict\n",
        "    else:\n",
        "        student.load_state_dict(teacher.state_dict())\n",
        "    return student"
      ]
    },
    {
      "cell_type": "code",
      "execution_count": 26,
      "metadata": {
        "id": "qBtvYUHzSRHU"
      },
      "outputs": [],
      "source": [
        "models = {}\n",
        "for mode in ['Top', 'Bottom', 'Odd', 'Even']:\n",
        "    student = create_student_model(configuration)\n",
        "    models[mode] = distill_bert_weights(teacher=teacher_model, student=student, mode=mode.lower())"
      ]
    },
    {
      "cell_type": "code",
      "execution_count": 27,
      "metadata": {
        "id": "yGeiX1SEF2pr"
      },
      "outputs": [],
      "source": [
        "def compare_models(model_1, model_2):\n",
        "    models_differ = 0\n",
        "    for key_item_1, key_item_2 in zip(model_1.state_dict().items(), model_2.state_dict().items()):\n",
        "        if torch.equal(key_item_1[1], key_item_2[1]):\n",
        "            pass\n",
        "        else:\n",
        "            models_differ += 1\n",
        "            if (key_item_1[0] == key_item_2[0]):\n",
        "                print('Mismatch found at', key_item_1[0])\n",
        "                break\n",
        "    if models_differ == 0:\n",
        "        print('Models match perfectly.')\n",
        "        raise Exception"
      ]
    },
    {
      "cell_type": "code",
      "execution_count": 28,
      "metadata": {
        "colab": {
          "base_uri": "https://localhost:8080/"
        },
        "id": "6SwkV6JBS5C_",
        "outputId": "21343368-fcf7-42f3-d8f8-e7c722274d3b"
      },
      "outputs": [
        {
          "name": "stdout",
          "output_type": "stream",
          "text": [
            "Mismatch found at bert.encoder.layer.1.attention.self.query.weight\n"
          ]
        }
      ],
      "source": [
        "compare_models(models['Top'], models['Odd'])"
      ]
    },
    {
      "cell_type": "code",
      "execution_count": 29,
      "metadata": {
        "colab": {
          "base_uri": "https://localhost:8080/"
        },
        "id": "_GKhU9YjTrnP",
        "outputId": "226eeed2-20c5-42ef-9fd6-3140325bd000"
      },
      "outputs": [
        {
          "name": "stdout",
          "output_type": "stream",
          "text": [
            "Mismatch found at bert.encoder.layer.0.attention.self.query.weight\n"
          ]
        }
      ],
      "source": [
        "compare_models(models['Top'], models['Bottom'])"
      ]
    },
    {
      "cell_type": "markdown",
      "metadata": {
        "id": "sVC2f1BpTtgB"
      },
      "source": [
        "The first mismatch of Top and Odd is at layer1 not layer 0 because they share the first layer (both are from teacher's layer0 or 1 from {1,2,3,...,12})"
      ]
    },
    {
      "cell_type": "code",
      "execution_count": 30,
      "metadata": {
        "colab": {
          "base_uri": "https://localhost:8080/"
        },
        "id": "QBXAob1DdsL3",
        "outputId": "03c746d0-6bc6-4ed0-8fe8-b505d7ace5de"
      },
      "outputs": [
        {
          "name": "stdout",
          "output_type": "stream",
          "text": [
            "Teacher parameters : 109484547\n",
            "Student parameters Top: 66957315\n",
            "Student parameters Bottom: 66957315\n",
            "Student parameters Odd: 66957315\n",
            "Student parameters Even: 66957315\n"
          ]
        }
      ],
      "source": [
        "def count_parameters(model):\n",
        "    return sum(p.numel() for p in model.parameters() if p.requires_grad)\n",
        "\n",
        "print('Teacher parameters :', count_parameters(teacher_model))\n",
        "for mode, model in models.items():\n",
        "    print(f'Student parameters {mode}:', count_parameters(model))"
      ]
    },
    {
      "cell_type": "code",
      "execution_count": 31,
      "metadata": {
        "colab": {
          "base_uri": "https://localhost:8080/"
        },
        "id": "MKzspy2TdsL3",
        "outputId": "ec4fd47a-8fac-45ac-fb6a-b7afb5415d63"
      },
      "outputs": [
        {
          "data": {
            "text/plain": [
              "61.15686353435797"
            ]
          },
          "execution_count": 31,
          "metadata": {},
          "output_type": "execute_result"
        }
      ],
      "source": [
        "count_parameters(models['Top'])/count_parameters(teacher_model) * 100"
      ]
    },
    {
      "cell_type": "code",
      "execution_count": 32,
      "metadata": {
        "id": "ZNJ9jXzAdsL4"
      },
      "outputs": [],
      "source": [
        "#It has ~40% less parameters than bert-base-uncased"
      ]
    },
    {
      "cell_type": "markdown",
      "metadata": {
        "id": "uftCknOsdsL4"
      },
      "source": [
        "### 5.2 Loss function"
      ]
    },
    {
      "cell_type": "markdown",
      "metadata": {
        "id": "yMxI2M1ZdsL4"
      },
      "source": [
        "#### Softmax\n",
        "\n",
        "$$\n",
        "P_i(\\mathbf{z}_i, T) = \\frac{\\exp(\\mathbf{z}_i / T)}{\\sum_{q=0}^k \\exp(\\mathbf{z}_q / T)}\n",
        "$$\n"
      ]
    },
    {
      "cell_type": "markdown",
      "metadata": {
        "id": "G2JafzUOdsMD"
      },
      "source": [
        "#### Knowledge Distillation\n",
        "\n",
        "#### CE Loss\n",
        "$$\\mathcal{L}_\\text{CE} = -\\sum^N_{j=0}\\sum_{i=0}^k {y}_i^{(j)}\\log(P_i({v}_i^{(j)}, 1))$$\n",
        "\n",
        "#### KL Loss\n",
        "$$\\mathcal{L}_\\text{KD} = -\\sum^N_{j=0}\\sum_{i=0}^k P_i({z}_i^{(j)}, T) \\log (P_i({v}_i^{(j)}, T))$$\n",
        "\n",
        "#### Cosine Embedding Loss\n",
        "$$\\mathcal{L}_{\\text{cosine}}(x_1, x_2, y) = \\frac{1}{N} \\sum_{i=1}^{N} \\left(1 - y_i \\cdot \\cos(\\theta_i)\\right)$$\n",
        "\n",
        "<!-- $$\\mathcal{L} = \\lambda \\mathcal{L}_\\text{KD} + (1-\\lambda)\\mathcal{L}_\\text{CE}$$\n",
        " -->\n",
        "\n",
        "#### Total Loss\n",
        "$$\\mathcal{L} = \\mathcal{L}_\\text{KD} + \\mathcal{L}_\\text{CE} + \\mathcal{L}_{\\text{cosine}}$$"
      ]
    },
    {
      "cell_type": "code",
      "execution_count": 33,
      "metadata": {
        "id": "Gm5sN61PdsME"
      },
      "outputs": [],
      "source": [
        "import torch.nn.functional as F\n",
        "\n",
        "class DistillKL(nn.Module):\n",
        "    \"\"\"\n",
        "    Distilling the Knowledge in a Neural Network\n",
        "    Compute the knowledge-distillation (KD) loss given outputs, labels.\n",
        "    \"Hyperparameters\": temperature and alpha\n",
        "\n",
        "    NOTE: the KL Divergence for PyTorch comparing the softmaxs of teacher\n",
        "    and student expects the input tensor to be log probabilities!\n",
        "    \"\"\"\n",
        "\n",
        "    def __init__(self):\n",
        "        super(DistillKL, self).__init__()\n",
        "\n",
        "    def forward(self, output_student, output_teacher, temperature=1):\n",
        "        '''\n",
        "        Note: the output_student and output_teacher are logits\n",
        "        '''\n",
        "        T = temperature #.cuda()\n",
        "\n",
        "        KD_loss = nn.KLDivLoss(reduction='batchmean')(\n",
        "            F.log_softmax(output_student/T, dim=-1),\n",
        "            F.softmax(output_teacher/T, dim=-1)\n",
        "        ) * T * T\n",
        "\n",
        "        return KD_loss"
      ]
    },
    {
      "cell_type": "code",
      "execution_count": 34,
      "metadata": {
        "id": "RvxWdwnZdsME"
      },
      "outputs": [],
      "source": [
        "criterion_div = DistillKL()\n",
        "criterion_cos = nn.CosineEmbeddingLoss()"
      ]
    },
    {
      "cell_type": "markdown",
      "metadata": {
        "id": "4bD-rGU2dsME"
      },
      "source": [
        "## 6. Optimizer"
      ]
    },
    {
      "cell_type": "code",
      "execution_count": 35,
      "metadata": {
        "id": "ynP0su0LdsME"
      },
      "outputs": [],
      "source": [
        "import torch.optim as optim\n",
        "import torch.nn as nn\n",
        "\n",
        "lr = 5e-5\n",
        "\n",
        "#training hyperparameters\n",
        "optimizer = optim.Adam(params=model.parameters(), lr=lr)"
      ]
    },
    {
      "cell_type": "code",
      "execution_count": 36,
      "metadata": {
        "id": "DXrUOFXadsMF"
      },
      "outputs": [],
      "source": [
        "for _, model in models.items():\n",
        "    model = model.to(device)\n",
        "teacher_model = teacher_model.to(device)"
      ]
    },
    {
      "cell_type": "markdown",
      "metadata": {
        "id": "in1XANpkdsMF"
      },
      "source": [
        "## 7. Learning rate scheduler"
      ]
    },
    {
      "cell_type": "code",
      "execution_count": 37,
      "metadata": {
        "id": "pwJtwNihdsMF"
      },
      "outputs": [],
      "source": [
        "from transformers import get_scheduler\n",
        "\n",
        "num_epochs = 5\n",
        "num_update_steps_per_epoch = len(train_dataloader)\n",
        "num_training_steps = num_epochs * num_update_steps_per_epoch\n",
        "\n",
        "lr_scheduler = get_scheduler(\n",
        "    name=\"linear\",\n",
        "    optimizer=optimizer,\n",
        "    num_warmup_steps=0,\n",
        "    num_training_steps=num_training_steps\n",
        ")"
      ]
    },
    {
      "cell_type": "markdown",
      "metadata": {
        "id": "69xTh_IwdsMG"
      },
      "source": [
        "## 8. Metric"
      ]
    },
    {
      "cell_type": "code",
      "execution_count": null,
      "metadata": {
        "colab": {
          "base_uri": "https://localhost:8080/"
        },
        "id": "F7Fi0EZ-dsMG",
        "outputId": "80ab06eb-b681-4d65-abf0-b1a5363128a8"
      },
      "outputs": [],
      "source": [
        "!pip3 install evaluate"
      ]
    },
    {
      "cell_type": "code",
      "execution_count": 39,
      "metadata": {
        "id": "cDzyulDpdsMG"
      },
      "outputs": [],
      "source": [
        "# import numpy as np\n",
        "# import evaluate\n",
        "# # Get the metric function\n",
        "# if task_name is not None:\n",
        "#     metric = evaluate.load(\"glue\", task_name)\n",
        "# else:\n",
        "#     metric = evaluate.load(\"accuracy\")"
      ]
    },
    {
      "cell_type": "markdown",
      "metadata": {
        "id": "Hv6bVeG5dsMH"
      },
      "source": [
        "## 9. Train"
      ]
    },
    {
      "cell_type": "code",
      "execution_count": 40,
      "metadata": {
        "colab": {
          "base_uri": "https://localhost:8080/",
          "height": 1000,
          "referenced_widgets": [
            "6c7bca0bbbdb493182d38bc95db5472b",
            "dda8bfaabb0042b2b944238894486ce9",
            "70baed61f5ab4b6ea853a8bc2d6aa685",
            "dde1a15b966c48f5bb1116be5d0267c7",
            "0115ebc946f34268af352f6c16a589cd",
            "332f080d30e941f9b3fb10e459e11150",
            "a953a1a74b0947eeb3cdebd6effb9c6d",
            "2acd18c6414f454eb2c9588c683285a6",
            "e1bdef7b702d410bb92453ac05fa1c80",
            "60154e5c9df54ea8bdbfa716a74e3474",
            "53756e46ff8a411f90cd9b67bbe90cdc",
            "e759910b83a04de6ac6f1673c7e32a9f",
            "88cd4b3a6d6f4797891da94c5e1f0622",
            "dc492074569d4fc68ac256af15f3ce55",
            "39ea50a4a4ae40fda865b7b8d8bca9e1",
            "c68e1a88931242b8afb830e0993f3cfc",
            "f51907d071a34d909f4acd4b0ff9c21c",
            "a0b2c15a19a14ce1a0950cbdacea0a19",
            "e736893ffcff4e1abbfbbe7b99226306",
            "83981e51d31041e79c5d6c555ddb4a57",
            "a1fce3c8c33f47bb97b31dbbb0ae16ad",
            "135e67e2469c4147ae035fb68bcb08a4",
            "5a359d77fa24435c91ab1d77106dc6ef",
            "0ef23b82af34414780a20e8c0d5c92d2",
            "fb816a9742224b34984050e9d1061577",
            "9f589a6983484ff0b5fadfe3b946efb3",
            "1147bdcb2a964f51a6e8d037a4dea3d7",
            "cd69eb6ab7f34613ad9b32d7ac7c16e1",
            "76b51663d4834ba187e8a9aa3bf19972",
            "b9d392551c4040f7946bd951b19175cc",
            "0d1bb9a508b34d4a946bb3d17d0e32bc",
            "14dc41aa8da44878b0460a4ad158a4d6",
            "f2cd4fc178304cb9b540ddffaae7f348",
            "f998b87f1a3b41659265783aefe99edd",
            "a63cc74b924b44fa8b2767a6682e20a2",
            "4222216912de47f387e5d097e38abf05",
            "bde724b3b3974c629366b6f75e2a0d16",
            "6e034dd36684476381aa04d6e36ffe6a",
            "c1cfe9e9eabf4eed8ae6b3e899721e4e",
            "9e9bc472df4f44fda80a2a2dee77e608",
            "8bf779da0b0343eda34b10d8043822da",
            "dd7f1ca0716b492ab1c97b2aa2b6b45b",
            "e9b59c61d9b6445197d72f19e1fc43bd",
            "a69a0ca53533488b8d3233fea305c655"
          ]
        },
        "id": "lEZCDWTfdsMH",
        "outputId": "078f5652-4970-4205-8701-b6553ac3e0db",
        "scrolled": true
      },
      "outputs": [
        {
          "data": {
            "application/vnd.jupyter.widget-view+json": {
              "model_id": "6c7bca0bbbdb493182d38bc95db5472b",
              "version_major": 2,
              "version_minor": 0
            },
            "text/plain": [
              "Top Layer:   0%|          | 0/785 [00:00<?, ?it/s]"
            ]
          },
          "metadata": {},
          "output_type": "display_data"
        },
        {
          "name": "stdout",
          "output_type": "stream",
          "text": [
            "Epoch at 1: Train loss 0.3550:\n",
            "  - Loss_cls:  0.9708\n",
            "  - Loss_div:  0.0431\n",
            "  - Loss_cos:  0.0509\n",
            "  • Eval Acc:  0.6540\n",
            "  • Eval Loss: 0.8761\n",
            "Epoch at 2: Train loss 0.3144:\n",
            "  - Loss_cls:  0.7948\n",
            "  - Loss_div:  0.0989\n",
            "  - Loss_cos:  0.0495\n",
            "  • Eval Acc:  0.6650\n",
            "  • Eval Loss: 0.8472\n",
            "Epoch at 3: Train loss 0.2834:\n",
            "  - Loss_cls:  0.6557\n",
            "  - Loss_div:  0.1438\n",
            "  - Loss_cos:  0.0505\n",
            "  • Eval Acc:  0.6640\n",
            "  • Eval Loss: 0.8177\n",
            "Epoch at 4: Train loss 0.2644:\n",
            "  - Loss_cls:  0.5705\n",
            "  - Loss_div:  0.1721\n",
            "  - Loss_cos:  0.0506\n",
            "  • Eval Acc:  0.6640\n",
            "  • Eval Loss: 0.8099\n",
            "Epoch at 5: Train loss 0.2541:\n",
            "  - Loss_cls:  0.5257\n",
            "  - Loss_div:  0.1862\n",
            "  - Loss_cos:  0.0506\n",
            "  • Eval Acc:  0.6640\n",
            "  • Eval Loss: 0.8087\n",
            "Avg Metric 0.6622000000000001\n"
          ]
        },
        {
          "data": {
            "application/vnd.jupyter.widget-view+json": {
              "model_id": "e759910b83a04de6ac6f1673c7e32a9f",
              "version_major": 2,
              "version_minor": 0
            },
            "text/plain": [
              "Bottom Layer:   0%|          | 0/785 [00:00<?, ?it/s]"
            ]
          },
          "metadata": {},
          "output_type": "display_data"
        },
        {
          "name": "stdout",
          "output_type": "stream",
          "text": [
            "Epoch at 1: Train loss 0.3803:\n",
            "  - Loss_cls:  1.0867\n",
            "  - Loss_div:  0.0125\n",
            "  - Loss_cos:  0.0418\n",
            "  • Eval Acc:  0.4800\n",
            "  • Eval Loss: 1.0389\n",
            "Epoch at 2: Train loss 0.3578:\n",
            "  - Loss_cls:  0.9907\n",
            "  - Loss_div:  0.0376\n",
            "  - Loss_cos:  0.0449\n",
            "  • Eval Acc:  0.5920\n",
            "  • Eval Loss: 0.9412\n",
            "Epoch at 3: Train loss 0.3271:\n",
            "  - Loss_cls:  0.8539\n",
            "  - Loss_div:  0.0797\n",
            "  - Loss_cos:  0.0478\n",
            "  • Eval Acc:  0.5990\n",
            "  • Eval Loss: 0.9194\n",
            "Epoch at 4: Train loss 0.2998:\n",
            "  - Loss_cls:  0.7328\n",
            "  - Loss_div:  0.1169\n",
            "  - Loss_cos:  0.0496\n",
            "  • Eval Acc:  0.6000\n",
            "  • Eval Loss: 0.9144\n",
            "Epoch at 5: Train loss 0.2825:\n",
            "  - Loss_cls:  0.6547\n",
            "  - Loss_div:  0.1424\n",
            "  - Loss_cos:  0.0504\n",
            "  • Eval Acc:  0.5960\n",
            "  • Eval Loss: 0.9142\n",
            "Avg Metric 0.5734\n"
          ]
        },
        {
          "data": {
            "application/vnd.jupyter.widget-view+json": {
              "model_id": "5a359d77fa24435c91ab1d77106dc6ef",
              "version_major": 2,
              "version_minor": 0
            },
            "text/plain": [
              "Odd Layer:   0%|          | 0/785 [00:00<?, ?it/s]"
            ]
          },
          "metadata": {},
          "output_type": "display_data"
        },
        {
          "name": "stdout",
          "output_type": "stream",
          "text": [
            "Epoch at 1: Train loss 0.3687:\n",
            "  - Loss_cls:  1.0238\n",
            "  - Loss_div:  0.0303\n",
            "  - Loss_cos:  0.0520\n",
            "  • Eval Acc:  0.6220\n",
            "  • Eval Loss: 0.9196\n",
            "Epoch at 2: Train loss 0.3245:\n",
            "  - Loss_cls:  0.8405\n",
            "  - Loss_div:  0.0841\n",
            "  - Loss_cos:  0.0491\n",
            "  • Eval Acc:  0.6470\n",
            "  • Eval Loss: 0.8509\n",
            "Epoch at 3: Train loss 0.2918:\n",
            "  - Loss_cls:  0.6941\n",
            "  - Loss_div:  0.1314\n",
            "  - Loss_cos:  0.0500\n",
            "  • Eval Acc:  0.6670\n",
            "  • Eval Loss: 0.8260\n",
            "Epoch at 4: Train loss 0.2703:\n",
            "  - Loss_cls:  0.5977\n",
            "  - Loss_div:  0.1627\n",
            "  - Loss_cos:  0.0506\n",
            "  • Eval Acc:  0.6670\n",
            "  • Eval Loss: 0.8144\n",
            "Epoch at 5: Train loss 0.2592:\n",
            "  - Loss_cls:  0.5478\n",
            "  - Loss_div:  0.1789\n",
            "  - Loss_cos:  0.0508\n",
            "  • Eval Acc:  0.6620\n",
            "  • Eval Loss: 0.8181\n",
            "Avg Metric 0.653\n"
          ]
        },
        {
          "data": {
            "application/vnd.jupyter.widget-view+json": {
              "model_id": "f998b87f1a3b41659265783aefe99edd",
              "version_major": 2,
              "version_minor": 0
            },
            "text/plain": [
              "Even Layer:   0%|          | 0/785 [00:00<?, ?it/s]"
            ]
          },
          "metadata": {},
          "output_type": "display_data"
        },
        {
          "name": "stdout",
          "output_type": "stream",
          "text": [
            "Epoch at 1: Train loss 0.3664:\n",
            "  - Loss_cls:  1.0261\n",
            "  - Loss_div:  0.0268\n",
            "  - Loss_cos:  0.0462\n",
            "  • Eval Acc:  0.6360\n",
            "  • Eval Loss: 0.8938\n",
            "Epoch at 2: Train loss 0.3243:\n",
            "  - Loss_cls:  0.8396\n",
            "  - Loss_div:  0.0850\n",
            "  - Loss_cos:  0.0484\n",
            "  • Eval Acc:  0.6480\n",
            "  • Eval Loss: 0.8472\n",
            "Epoch at 3: Train loss 0.2932:\n",
            "  - Loss_cls:  0.7001\n",
            "  - Loss_div:  0.1302\n",
            "  - Loss_cos:  0.0492\n",
            "  • Eval Acc:  0.6620\n",
            "  • Eval Loss: 0.8195\n",
            "Epoch at 4: Train loss 0.2745:\n",
            "  - Loss_cls:  0.6177\n",
            "  - Loss_div:  0.1568\n",
            "  - Loss_cos:  0.0489\n",
            "  • Eval Acc:  0.6680\n",
            "  • Eval Loss: 0.8057\n",
            "Epoch at 5: Train loss 0.2632:\n",
            "  - Loss_cls:  0.5680\n",
            "  - Loss_div:  0.1732\n",
            "  - Loss_cos:  0.0484\n",
            "  • Eval Acc:  0.6720\n",
            "  • Eval Loss: 0.8036\n",
            "Avg Metric 0.6572000000000001\n"
          ]
        }
      ],
      "source": [
        "import torch\n",
        "from tqdm.auto import tqdm\n",
        "import pickle\n",
        "import numpy as np\n",
        "import evaluate\n",
        "\n",
        "losses = {}\n",
        "\n",
        "for mode, model in models.items():\n",
        "\n",
        "    ######## reinit training feedback\n",
        "    criterion_div = DistillKL()\n",
        "    criterion_cos = nn.CosineEmbeddingLoss()\n",
        "\n",
        "    optimizer = optim.Adam(params=model.parameters(), lr=lr)\n",
        "\n",
        "    lr_scheduler = get_scheduler(\n",
        "        name=\"linear\",\n",
        "        optimizer=optimizer,\n",
        "        num_warmup_steps=0,\n",
        "        num_training_steps=num_training_steps\n",
        "        )\n",
        "\n",
        "    if task_name is not None:\n",
        "        metric = evaluate.load(\"glue\", task_name)\n",
        "    else:\n",
        "        metric = evaluate.load(\"accuracy\")\n",
        "    ########\n",
        "\n",
        "    progress_bar = tqdm(range(num_training_steps), desc=f'{mode} Layer')\n",
        "    eval_metrics = 0\n",
        "\n",
        "    # Lists to store losses for each epoch\n",
        "    train_losses = []\n",
        "    train_losses_cls = []\n",
        "    train_losses_div = []\n",
        "    train_losses_cos = []\n",
        "    eval_losses = []\n",
        "    eval_accs = []\n",
        "\n",
        "    for epoch in range(num_epochs):\n",
        "        model.train()\n",
        "        teacher_model.eval()\n",
        "        train_loss = 0\n",
        "        train_loss_cls = 0\n",
        "        train_loss_div = 0\n",
        "        train_loss_cos = 0\n",
        "\n",
        "        for batch in train_dataloader:\n",
        "            batch = {k: v.to(device) for k, v in batch.items()}\n",
        "            # compute student output\n",
        "            outputs = model(**batch)\n",
        "            # compute teacher output\n",
        "            with torch.no_grad():\n",
        "                output_teacher = teacher_model(**batch)\n",
        "\n",
        "            # assert size\n",
        "            assert outputs.logits.size() == output_teacher.logits.size()\n",
        "\n",
        "            # cls loss\n",
        "            loss_cls  = outputs.loss\n",
        "            train_loss_cls += loss_cls.item()\n",
        "            # distillation loss\n",
        "            loss_div = criterion_div(outputs.logits, output_teacher.logits)\n",
        "            train_loss_div += loss_div.item()\n",
        "            # cosine loss\n",
        "            loss_cos = criterion_cos(output_teacher.logits, outputs.logits, torch.ones(output_teacher.logits.size()[0]).to(device))\n",
        "            train_loss_cos += loss_cos.item()\n",
        "\n",
        "            # Average the loss and return it\n",
        "            loss = (loss_cls + loss_div + loss_cos) / 3\n",
        "\n",
        "            train_loss += loss.item()\n",
        "            loss.backward()\n",
        "            # accelerator.backward(loss)\n",
        "            # Step with optimizer\n",
        "            optimizer.step()\n",
        "            lr_scheduler.step()\n",
        "            optimizer.zero_grad()\n",
        "            progress_bar.update(1)\n",
        "\n",
        "        train_losses.append(train_loss / len(train_dataloader))\n",
        "        train_losses_cls.append(train_loss_cls / len(train_dataloader))\n",
        "        train_losses_div.append(train_loss_div / len(train_dataloader))\n",
        "        train_losses_cos.append(train_loss_cos / len(train_dataloader))\n",
        "\n",
        "        print(f'Epoch at {epoch+1}: Train loss {train_loss/len(train_dataloader):.4f}:')\n",
        "        print(f'  - Loss_cls:  {train_loss_cls/len(train_dataloader):.4f}')\n",
        "        print(f'  - Loss_div:  {train_loss_div/len(train_dataloader):.4f}')\n",
        "        print(f'  - Loss_cos:  {train_loss_cos/len(train_dataloader):.4f}')\n",
        "\n",
        "        model.eval()\n",
        "        eval_loss = 0\n",
        "        for batch in eval_dataloader:\n",
        "            batch = {k: v.to(device) for k, v in batch.items()}\n",
        "            with torch.no_grad():\n",
        "                outputs = model(**batch)\n",
        "\n",
        "            loss_cls = outputs.loss\n",
        "            predictions = outputs.logits.argmax(dim=-1)\n",
        "\n",
        "            eval_loss += loss_cls.item()\n",
        "            # predictions, references = accelerator.gather((predictions, batch[\"labels\"]))\n",
        "            metric.add_batch(\n",
        "                predictions=predictions,\n",
        "                references=batch[\"labels\"])\n",
        "\n",
        "        eval_metric = metric.compute()\n",
        "        eval_metrics += eval_metric['accuracy']\n",
        "        eval_accs.append(eval_metric['accuracy'])\n",
        "        eval_losses.append(eval_loss / len(eval_dataloader))  # Save the evaluation loss for plotting\n",
        "\n",
        "        print(f\"  • Eval Acc:  {eval_metric['accuracy']:.4f}\")\n",
        "        print(f\"  • Eval Loss: {eval_loss / len(eval_dataloader):.4f}\")\n",
        "\n",
        "    print('Avg Metric', eval_metrics/num_epochs)\n",
        "    losses[mode+' layer'] = {'train_losses': train_losses,\n",
        "                             'train_losses_cls': train_losses_cls,\n",
        "                             'train_losses_div': train_losses_div,\n",
        "                             'train_losses_cos': train_losses_cos,\n",
        "                             'eval_losses': eval_losses,\n",
        "                             'eval_accs': eval_accs}\n",
        "\n",
        "    torch.save(model.state_dict(), f'{file_path}/{mode} layer model.pt')"
      ]
    },
    {
      "cell_type": "code",
      "execution_count": null,
      "metadata": {
        "colab": {
          "base_uri": "https://localhost:8080/"
        },
        "id": "JaUrCMiFdsMH",
        "outputId": "44f1e54a-5edd-45a7-d247-d3952efabdda"
      },
      "outputs": [],
      "source": [
        "import json\n",
        "json.dump(losses, open(f'{file_path}/losses.json', 'w'))\n",
        "print(json.dumps(losses, indent=4))"
      ]
    },
    {
      "cell_type": "code",
      "execution_count": 48,
      "metadata": {
        "colab": {
          "base_uri": "https://localhost:8080/",
          "height": 1000
        },
        "id": "DA217bZQdsMI",
        "outputId": "2bcfd834-672f-44fb-a2b8-0e18be97252b"
      },
      "outputs": [
        {
          "data": {
            "image/png": "[encoded data removed]",
            "text/plain": [
              "<Figure size 1800x1200 with 4 Axes>"
            ]
          },
          "metadata": {},
          "output_type": "display_data"
        }
      ],
      "source": [
        "import matplotlib.pyplot as plt\n",
        "\n",
        "# Plotting\n",
        "epochs_list = range(1, num_epochs + 1)\n",
        "\n",
        "fig, axs = plt.subplots(2, 2, figsize=(18,12))\n",
        "\n",
        "for i, mode in enumerate(losses.keys()):\n",
        "\n",
        "    splt = axs[i//2, i%2]\n",
        "    splt.plot(epochs_list, losses[mode]['train_losses'], label='Total Train Loss')\n",
        "    splt.plot(epochs_list, losses[mode]['train_losses_cls'], label='Train Loss_cls')\n",
        "    splt.plot(epochs_list, losses[mode]['train_losses_div'], label='Train Loss_div')\n",
        "    splt.plot(epochs_list, losses[mode]['train_losses_cos'], label='Train Loss_cos')\n",
        "    splt.plot(epochs_list, losses[mode]['eval_losses'], label='Validation Loss')\n",
        "\n",
        "    splt.set_title(f'{mode.capitalize()} Layer')\n",
        "    splt.set_xticks(epochs_list)\n",
        "    splt.set_xlabel('Epochs')\n",
        "    splt.set_ylabel('Loss')\n",
        "    splt.grid()\n",
        "    splt.legend()\n",
        "\n",
        "plt.suptitle('Training and Validation Losses')\n",
        "plt.tight_layout()\n",
        "plt.savefig(f'{file_path}/losses.png')\n",
        "plt.show()"
      ]
    },
    {
      "cell_type": "code",
      "execution_count": 43,
      "metadata": {
        "colab": {
          "base_uri": "https://localhost:8080/",
          "height": 564
        },
        "id": "AEmgbxlgdsMI",
        "outputId": "bb46b2fc-4a5e-457b-ba1f-fd3ef22df909"
      },
      "outputs": [
        {
          "data": {
            "image/png": "[encoded data removed]",
            "text/plain": [
              "<Figure size 1200x600 with 1 Axes>"
            ]
          },
          "metadata": {},
          "output_type": "display_data"
        }
      ],
      "source": [
        "import matplotlib.pyplot as plt\n",
        "# Plotting\n",
        "epochs_list = range(1, num_epochs + 1)\n",
        "plt.figure(figsize=(12, 6))\n",
        "\n",
        "color_lists = ['red', 'blue', 'green', 'orange']\n",
        "\n",
        "for i, mode in enumerate(losses.keys()):\n",
        "    plt.plot(epochs_list, losses[mode]['train_losses'], label=f'{mode.capitalize()}: Train Loss', color=color_lists[i])\n",
        "    plt.plot(epochs_list, losses[mode]['eval_losses'], label=f'{mode.capitalize()}: Valid Loss', color=color_lists[i], linestyle='--')\n",
        "\n",
        "plt.title('Training and Validation Losses')\n",
        "plt.xticks(epochs_list)\n",
        "plt.xlabel('Epochs')\n",
        "plt.ylabel('Loss')\n",
        "plt.legend()\n",
        "plt.grid()\n",
        "plt.savefig(f'{file_path}/compared_losses.png')\n",
        "plt.show()"
      ]
    },
    {
      "cell_type": "code",
      "execution_count": 44,
      "metadata": {
        "colab": {
          "base_uri": "https://localhost:8080/",
          "height": 564
        },
        "id": "kmaK-ESaVt1R",
        "outputId": "54fcc278-d69d-4edd-c4a3-70d7c3be3b1b"
      },
      "outputs": [
        {
          "data": {
            "image/png": "[encoded data removed]",
            "text/plain": [
              "<Figure size 1200x600 with 1 Axes>"
            ]
          },
          "metadata": {},
          "output_type": "display_data"
        }
      ],
      "source": [
        "import matplotlib.pyplot as plt\n",
        "# Plotting\n",
        "epochs_list = range(1, num_epochs + 1)\n",
        "plt.figure(figsize=(12, 6))\n",
        "\n",
        "color_lists = ['red', 'blue', 'green', 'orange']\n",
        "\n",
        "for i, mode in enumerate(losses.keys()):\n",
        "    plt.plot(epochs_list, losses[mode]['eval_accs'], label=f'{mode.capitalize()}: Train Loss', color=color_lists[i])\n",
        "\n",
        "plt.title('Validation Accuracy')\n",
        "plt.xticks(epochs_list)\n",
        "plt.xlabel('Epochs')\n",
        "plt.ylabel('Loss')\n",
        "plt.legend()\n",
        "plt.grid()\n",
        "plt.savefig(f'{file_path}/compared_accs.png')\n",
        "plt.show()"
      ]
    },
    {
      "cell_type": "markdown",
      "metadata": {
        "id": "WvgNauLldsMI"
      },
      "source": [
        "### Appendix (Teacher Model)"
      ]
    },
    {
      "cell_type": "code",
      "execution_count": 45,
      "metadata": {
        "colab": {
          "base_uri": "https://localhost:8080/",
          "height": 240,
          "referenced_widgets": [
            "1244ffe268d9470cbda55e3614932258",
            "e4e41bacdb9f4167a783d37f2181ab0f",
            "1a4cef07938e4e66a6c43c4b21c836dd",
            "c09d2fe1d1ce4792910c472dbed8cf22",
            "f02187aeed4a488fb994d80bf920d9b4",
            "7270f75926e34d94a7438d8a1c2fbd07",
            "bf5231a41d8443f383f8ae1c500551b0",
            "fdeae0c06ddf40e3990cfdfad54b43a6",
            "374de1b5901e4aa3b6fffbc79799e572",
            "e0b0773064e64fb4938273a60c113130",
            "c2ca4114d61f458aabeae9d017cbdec7"
          ]
        },
        "id": "niFt1YfXdsMI",
        "outputId": "75f8638b-f8ee-4db3-d6df-9aa5ebc7df74"
      },
      "outputs": [
        {
          "data": {
            "application/vnd.jupyter.widget-view+json": {
              "model_id": "1244ffe268d9470cbda55e3614932258",
              "version_major": 2,
              "version_minor": 0
            },
            "text/plain": [
              "  0%|          | 0/785 [00:00<?, ?it/s]"
            ]
          },
          "metadata": {},
          "output_type": "display_data"
        },
        {
          "name": "stdout",
          "output_type": "stream",
          "text": [
            "Epoch at 1: Train loss 0.8380:\n",
            "Epoch at 1: Test Acc 0.7090\n",
            "Epoch at 2: Train loss 0.4992:\n",
            "Epoch at 2: Test Acc 0.7280\n",
            "Epoch at 3: Train loss 0.2423:\n",
            "Epoch at 3: Test Acc 0.7420\n",
            "Epoch at 4: Train loss 0.1161:\n",
            "Epoch at 4: Test Acc 0.7310\n",
            "Epoch at 5: Train loss 0.0747:\n",
            "Epoch at 5: Test Acc 0.7370\n",
            "Avg Metric 0.7293999999999999\n"
          ]
        }
      ],
      "source": [
        "import torch\n",
        "from tqdm.auto import tqdm\n",
        "import torch.optim as optim\n",
        "import torch.nn as nn\n",
        "\n",
        "lr = 5e-5\n",
        "#training hyperparameters\n",
        "optimizer = optim.Adam(params=teacher_model.parameters(), lr=lr)\n",
        "\n",
        "progress_bar = tqdm(range(num_training_steps))\n",
        "eval_metrics = 0\n",
        "\n",
        "for epoch in range(num_epochs):\n",
        "    teacher_model.train()\n",
        "    train_loss = 0\n",
        "    for step, batch in enumerate(train_dataloader):\n",
        "        batch = {k: v.to(device) for k, v in batch.items()}\n",
        "        output_teacher = teacher_model(**batch)\n",
        "        # cls loss\n",
        "        loss = output_teacher.loss\n",
        "        train_loss += loss.item()\n",
        "        loss.backward()\n",
        "        # accelerator.backward(loss)\n",
        "        # Step with optimizer\n",
        "        optimizer.step()\n",
        "        lr_scheduler.step()\n",
        "        optimizer.zero_grad()\n",
        "        progress_bar.update(1)\n",
        "\n",
        "    print(f'Epoch at {epoch+1}: Train loss {train_loss/len(train_dataloader):.4f}:')\n",
        "\n",
        "    teacher_model.eval()\n",
        "    for step, batch in enumerate(eval_dataloader):\n",
        "        batch = {k: v.to(device) for k, v in batch.items()}\n",
        "        with torch.no_grad():\n",
        "            outputs = teacher_model(**batch)\n",
        "\n",
        "        predictions = outputs.logits.argmax(dim=-1)\n",
        "        # predictions, references = accelerator.gather((predictions, batch[\"labels\"]))\n",
        "        metric.add_batch(\n",
        "            predictions=predictions,\n",
        "            references=batch[\"labels\"])\n",
        "\n",
        "    eval_metric = metric.compute()\n",
        "    eval_metrics += eval_metric['accuracy']\n",
        "    print(f\"Epoch at {epoch+1}: Test Acc {eval_metric['accuracy']:.4f}\")\n",
        "\n",
        "print('Avg Metric', eval_metrics/num_epochs)"
      ]
    },
    {
      "cell_type": "code",
      "execution_count": 45,
      "metadata": {
        "id": "T1iQwEiQUmYR"
      },
      "outputs": [],
      "source": []
    }
  ],
  "metadata": {
    "accelerator": "GPU",
    "colab": {
      "gpuType": "T4",
      "provenance": []
    },
    "kernelspec": {
      "display_name": "Python 3",
      "name": "python3"
    },
    "language_info": {
      "codemirror_mode": {
        "name": "ipython",
        "version": 3
      },
      "file_extension": ".py",
      "mimetype": "text/x-python",
      "name": "python",
      "nbconvert_exporter": "python",
      "pygments_lexer": "ipython3",
      "version": "3.11.5"
    },
    "widgets": {
      "application/vnd.jupyter.widget-state+json": {
        "0115ebc946f34268af352f6c16a589cd": {
          "model_module": "@jupyter-widgets/base",
          "model_module_version": "1.2.0",
          "model_name": "LayoutModel",
          "state": {
            "_model_module": "@jupyter-widgets/base",
            "_model_module_version": "1.2.0",
            "_model_name": "LayoutModel",
            "_view_count": null,
            "_view_module": "@jupyter-widgets/base",
            "_view_module_version": "1.2.0",
            "_view_name": "LayoutView",
            "align_content": null,
            "align_items": null,
            "align_self": null,
            "border": null,
            "bottom": null,
            "display": null,
            "flex": null,
            "flex_flow": null,
            "grid_area": null,
            "grid_auto_columns": null,
            "grid_auto_flow": null,
            "grid_auto_rows": null,
            "grid_column": null,
            "grid_gap": null,
            "grid_row": null,
            "grid_template_areas": null,
            "grid_template_columns": null,
            "grid_template_rows": null,
            "height": null,
            "justify_content": null,
            "justify_items": null,
            "left": null,
            "margin": null,
            "max_height": null,
            "max_width": null,
            "min_height": null,
            "min_width": null,
            "object_fit": null,
            "object_position": null,
            "order": null,
            "overflow": null,
            "overflow_x": null,
            "overflow_y": null,
            "padding": null,
            "right": null,
            "top": null,
            "visibility": null,
            "width": null
          }
        },
        "0c72f3b40eba407e8586ae8174b7195d": {
          "model_module": "@jupyter-widgets/controls",
          "model_module_version": "1.5.0",
          "model_name": "HBoxModel",
          "state": {
            "_dom_classes": [],
            "_model_module": "@jupyter-widgets/controls",
            "_model_module_version": "1.5.0",
            "_model_name": "HBoxModel",
            "_view_count": null,
            "_view_module": "@jupyter-widgets/controls",
            "_view_module_version": "1.5.0",
            "_view_name": "HBoxView",
            "box_style": "",
            "children": [
              "IPY_MODEL_7448c6fd8f654cb8920ca0756fa387aa",
              "IPY_MODEL_750af2102fd4422296eef76064f1a4c8",
              "IPY_MODEL_5bcf7f93874342b4a7059a472071a7f5"
            ],
            "layout": "IPY_MODEL_8b54e4a5867f44dc8f8d9751d88627bc"
          }
        },
        "0d1bb9a508b34d4a946bb3d17d0e32bc": {
          "model_module": "@jupyter-widgets/controls",
          "model_module_version": "1.5.0",
          "model_name": "ProgressStyleModel",
          "state": {
            "_model_module": "@jupyter-widgets/controls",
            "_model_module_version": "1.5.0",
            "_model_name": "ProgressStyleModel",
            "_view_count": null,
            "_view_module": "@jupyter-widgets/base",
            "_view_module_version": "1.2.0",
            "_view_name": "StyleView",
            "bar_color": null,
            "description_width": ""
          }
        },
        "0ef23b82af34414780a20e8c0d5c92d2": {
          "model_module": "@jupyter-widgets/controls",
          "model_module_version": "1.5.0",
          "model_name": "HTMLModel",
          "state": {
            "_dom_classes": [],
            "_model_module": "@jupyter-widgets/controls",
            "_model_module_version": "1.5.0",
            "_model_name": "HTMLModel",
            "_view_count": null,
            "_view_module": "@jupyter-widgets/controls",
            "_view_module_version": "1.5.0",
            "_view_name": "HTMLView",
            "description": "",
            "description_tooltip": null,
            "layout": "IPY_MODEL_cd69eb6ab7f34613ad9b32d7ac7c16e1",
            "placeholder": "​",
            "style": "IPY_MODEL_76b51663d4834ba187e8a9aa3bf19972",
            "value": "Odd Layer: 100%"
          }
        },
        "1147bdcb2a964f51a6e8d037a4dea3d7": {
          "model_module": "@jupyter-widgets/base",
          "model_module_version": "1.2.0",
          "model_name": "LayoutModel",
          "state": {
            "_model_module": "@jupyter-widgets/base",
            "_model_module_version": "1.2.0",
            "_model_name": "LayoutModel",
            "_view_count": null,
            "_view_module": "@jupyter-widgets/base",
            "_view_module_version": "1.2.0",
            "_view_name": "LayoutView",
            "align_content": null,
            "align_items": null,
            "align_self": null,
            "border": null,
            "bottom": null,
            "display": null,
            "flex": null,
            "flex_flow": null,
            "grid_area": null,
            "grid_auto_columns": null,
            "grid_auto_flow": null,
            "grid_auto_rows": null,
            "grid_column": null,
            "grid_gap": null,
            "grid_row": null,
            "grid_template_areas": null,
            "grid_template_columns": null,
            "grid_template_rows": null,
            "height": null,
            "justify_content": null,
            "justify_items": null,
            "left": null,
            "margin": null,
            "max_height": null,
            "max_width": null,
            "min_height": null,
            "min_width": null,
            "object_fit": null,
            "object_position": null,
            "order": null,
            "overflow": null,
            "overflow_x": null,
            "overflow_y": null,
            "padding": null,
            "right": null,
            "top": null,
            "visibility": null,
            "width": null
          }
        },
        "1244ffe268d9470cbda55e3614932258": {
          "model_module": "@jupyter-widgets/controls",
          "model_module_version": "1.5.0",
          "model_name": "HBoxModel",
          "state": {
            "_dom_classes": [],
            "_model_module": "@jupyter-widgets/controls",
            "_model_module_version": "1.5.0",
            "_model_name": "HBoxModel",
            "_view_count": null,
            "_view_module": "@jupyter-widgets/controls",
            "_view_module_version": "1.5.0",
            "_view_name": "HBoxView",
            "box_style": "",
            "children": [
              "IPY_MODEL_e4e41bacdb9f4167a783d37f2181ab0f",
              "IPY_MODEL_1a4cef07938e4e66a6c43c4b21c836dd",
              "IPY_MODEL_c09d2fe1d1ce4792910c472dbed8cf22"
            ],
            "layout": "IPY_MODEL_f02187aeed4a488fb994d80bf920d9b4"
          }
        },
        "135e67e2469c4147ae035fb68bcb08a4": {
          "model_module": "@jupyter-widgets/controls",
          "model_module_version": "1.5.0",
          "model_name": "DescriptionStyleModel",
          "state": {
            "_model_module": "@jupyter-widgets/controls",
            "_model_module_version": "1.5.0",
            "_model_name": "DescriptionStyleModel",
            "_view_count": null,
            "_view_module": "@jupyter-widgets/base",
            "_view_module_version": "1.2.0",
            "_view_name": "StyleView",
            "description_width": ""
          }
        },
        "14dc41aa8da44878b0460a4ad158a4d6": {
          "model_module": "@jupyter-widgets/base",
          "model_module_version": "1.2.0",
          "model_name": "LayoutModel",
          "state": {
            "_model_module": "@jupyter-widgets/base",
            "_model_module_version": "1.2.0",
            "_model_name": "LayoutModel",
            "_view_count": null,
            "_view_module": "@jupyter-widgets/base",
            "_view_module_version": "1.2.0",
            "_view_name": "LayoutView",
            "align_content": null,
            "align_items": null,
            "align_self": null,
            "border": null,
            "bottom": null,
            "display": null,
            "flex": null,
            "flex_flow": null,
            "grid_area": null,
            "grid_auto_columns": null,
            "grid_auto_flow": null,
            "grid_auto_rows": null,
            "grid_column": null,
            "grid_gap": null,
            "grid_row": null,
            "grid_template_areas": null,
            "grid_template_columns": null,
            "grid_template_rows": null,
            "height": null,
            "justify_content": null,
            "justify_items": null,
            "left": null,
            "margin": null,
            "max_height": null,
            "max_width": null,
            "min_height": null,
            "min_width": null,
            "object_fit": null,
            "object_position": null,
            "order": null,
            "overflow": null,
            "overflow_x": null,
            "overflow_y": null,
            "padding": null,
            "right": null,
            "top": null,
            "visibility": null,
            "width": null
          }
        },
        "1a4cef07938e4e66a6c43c4b21c836dd": {
          "model_module": "@jupyter-widgets/controls",
          "model_module_version": "1.5.0",
          "model_name": "FloatProgressModel",
          "state": {
            "_dom_classes": [],
            "_model_module": "@jupyter-widgets/controls",
            "_model_module_version": "1.5.0",
            "_model_name": "FloatProgressModel",
            "_view_count": null,
            "_view_module": "@jupyter-widgets/controls",
            "_view_module_version": "1.5.0",
            "_view_name": "ProgressView",
            "bar_style": "",
            "description": "",
            "description_tooltip": null,
            "layout": "IPY_MODEL_fdeae0c06ddf40e3990cfdfad54b43a6",
            "max": 785,
            "min": 0,
            "orientation": "horizontal",
            "style": "IPY_MODEL_374de1b5901e4aa3b6fffbc79799e572",
            "value": 785
          }
        },
        "2acd18c6414f454eb2c9588c683285a6": {
          "model_module": "@jupyter-widgets/base",
          "model_module_version": "1.2.0",
          "model_name": "LayoutModel",
          "state": {
            "_model_module": "@jupyter-widgets/base",
            "_model_module_version": "1.2.0",
            "_model_name": "LayoutModel",
            "_view_count": null,
            "_view_module": "@jupyter-widgets/base",
            "_view_module_version": "1.2.0",
            "_view_name": "LayoutView",
            "align_content": null,
            "align_items": null,
            "align_self": null,
            "border": null,
            "bottom": null,
            "display": null,
            "flex": null,
            "flex_flow": null,
            "grid_area": null,
            "grid_auto_columns": null,
            "grid_auto_flow": null,
            "grid_auto_rows": null,
            "grid_column": null,
            "grid_gap": null,
            "grid_row": null,
            "grid_template_areas": null,
            "grid_template_columns": null,
            "grid_template_rows": null,
            "height": null,
            "justify_content": null,
            "justify_items": null,
            "left": null,
            "margin": null,
            "max_height": null,
            "max_width": null,
            "min_height": null,
            "min_width": null,
            "object_fit": null,
            "object_position": null,
            "order": null,
            "overflow": null,
            "overflow_x": null,
            "overflow_y": null,
            "padding": null,
            "right": null,
            "top": null,
            "visibility": null,
            "width": null
          }
        },
        "305d5a59e42648d0a94fee3b3bfbeccc": {
          "model_module": "@jupyter-widgets/controls",
          "model_module_version": "1.5.0",
          "model_name": "ProgressStyleModel",
          "state": {
            "_model_module": "@jupyter-widgets/controls",
            "_model_module_version": "1.5.0",
            "_model_name": "ProgressStyleModel",
            "_view_count": null,
            "_view_module": "@jupyter-widgets/base",
            "_view_module_version": "1.2.0",
            "_view_name": "StyleView",
            "bar_color": null,
            "description_width": ""
          }
        },
        "332f080d30e941f9b3fb10e459e11150": {
          "model_module": "@jupyter-widgets/base",
          "model_module_version": "1.2.0",
          "model_name": "LayoutModel",
          "state": {
            "_model_module": "@jupyter-widgets/base",
            "_model_module_version": "1.2.0",
            "_model_name": "LayoutModel",
            "_view_count": null,
            "_view_module": "@jupyter-widgets/base",
            "_view_module_version": "1.2.0",
            "_view_name": "LayoutView",
            "align_content": null,
            "align_items": null,
            "align_self": null,
            "border": null,
            "bottom": null,
            "display": null,
            "flex": null,
            "flex_flow": null,
            "grid_area": null,
            "grid_auto_columns": null,
            "grid_auto_flow": null,
            "grid_auto_rows": null,
            "grid_column": null,
            "grid_gap": null,
            "grid_row": null,
            "grid_template_areas": null,
            "grid_template_columns": null,
            "grid_template_rows": null,
            "height": null,
            "justify_content": null,
            "justify_items": null,
            "left": null,
            "margin": null,
            "max_height": null,
            "max_width": null,
            "min_height": null,
            "min_width": null,
            "object_fit": null,
            "object_position": null,
            "order": null,
            "overflow": null,
            "overflow_x": null,
            "overflow_y": null,
            "padding": null,
            "right": null,
            "top": null,
            "visibility": null,
            "width": null
          }
        },
        "35cedb5405cc4fb2b382114d4c798650": {
          "model_module": "@jupyter-widgets/controls",
          "model_module_version": "1.5.0",
          "model_name": "DescriptionStyleModel",
          "state": {
            "_model_module": "@jupyter-widgets/controls",
            "_model_module_version": "1.5.0",
            "_model_name": "DescriptionStyleModel",
            "_view_count": null,
            "_view_module": "@jupyter-widgets/base",
            "_view_module_version": "1.2.0",
            "_view_name": "StyleView",
            "description_width": ""
          }
        },
        "374de1b5901e4aa3b6fffbc79799e572": {
          "model_module": "@jupyter-widgets/controls",
          "model_module_version": "1.5.0",
          "model_name": "ProgressStyleModel",
          "state": {
            "_model_module": "@jupyter-widgets/controls",
            "_model_module_version": "1.5.0",
            "_model_name": "ProgressStyleModel",
            "_view_count": null,
            "_view_module": "@jupyter-widgets/base",
            "_view_module_version": "1.2.0",
            "_view_name": "StyleView",
            "bar_color": null,
            "description_width": ""
          }
        },
        "39ea50a4a4ae40fda865b7b8d8bca9e1": {
          "model_module": "@jupyter-widgets/controls",
          "model_module_version": "1.5.0",
          "model_name": "HTMLModel",
          "state": {
            "_dom_classes": [],
            "_model_module": "@jupyter-widgets/controls",
            "_model_module_version": "1.5.0",
            "_model_name": "HTMLModel",
            "_view_count": null,
            "_view_module": "@jupyter-widgets/controls",
            "_view_module_version": "1.5.0",
            "_view_name": "HTMLView",
            "description": "",
            "description_tooltip": null,
            "layout": "IPY_MODEL_a1fce3c8c33f47bb97b31dbbb0ae16ad",
            "placeholder": "​",
            "style": "IPY_MODEL_135e67e2469c4147ae035fb68bcb08a4",
            "value": " 785/785 [1:01:20&lt;00:00,  1.65it/s]"
          }
        },
        "4222216912de47f387e5d097e38abf05": {
          "model_module": "@jupyter-widgets/controls",
          "model_module_version": "1.5.0",
          "model_name": "FloatProgressModel",
          "state": {
            "_dom_classes": [],
            "_model_module": "@jupyter-widgets/controls",
            "_model_module_version": "1.5.0",
            "_model_name": "FloatProgressModel",
            "_view_count": null,
            "_view_module": "@jupyter-widgets/controls",
            "_view_module_version": "1.5.0",
            "_view_name": "ProgressView",
            "bar_style": "success",
            "description": "",
            "description_tooltip": null,
            "layout": "IPY_MODEL_8bf779da0b0343eda34b10d8043822da",
            "max": 785,
            "min": 0,
            "orientation": "horizontal",
            "style": "IPY_MODEL_dd7f1ca0716b492ab1c97b2aa2b6b45b",
            "value": 785
          }
        },
        "53756e46ff8a411f90cd9b67bbe90cdc": {
          "model_module": "@jupyter-widgets/controls",
          "model_module_version": "1.5.0",
          "model_name": "DescriptionStyleModel",
          "state": {
            "_model_module": "@jupyter-widgets/controls",
            "_model_module_version": "1.5.0",
            "_model_name": "DescriptionStyleModel",
            "_view_count": null,
            "_view_module": "@jupyter-widgets/base",
            "_view_module_version": "1.2.0",
            "_view_name": "StyleView",
            "description_width": ""
          }
        },
        "5a359d77fa24435c91ab1d77106dc6ef": {
          "model_module": "@jupyter-widgets/controls",
          "model_module_version": "1.5.0",
          "model_name": "HBoxModel",
          "state": {
            "_dom_classes": [],
            "_model_module": "@jupyter-widgets/controls",
            "_model_module_version": "1.5.0",
            "_model_name": "HBoxModel",
            "_view_count": null,
            "_view_module": "@jupyter-widgets/controls",
            "_view_module_version": "1.5.0",
            "_view_name": "HBoxView",
            "box_style": "",
            "children": [
              "IPY_MODEL_0ef23b82af34414780a20e8c0d5c92d2",
              "IPY_MODEL_fb816a9742224b34984050e9d1061577",
              "IPY_MODEL_9f589a6983484ff0b5fadfe3b946efb3"
            ],
            "layout": "IPY_MODEL_1147bdcb2a964f51a6e8d037a4dea3d7"
          }
        },
        "5bcf7f93874342b4a7059a472071a7f5": {
          "model_module": "@jupyter-widgets/controls",
          "model_module_version": "1.5.0",
          "model_name": "HTMLModel",
          "state": {
            "_dom_classes": [],
            "_model_module": "@jupyter-widgets/controls",
            "_model_module_version": "1.5.0",
            "_model_name": "HTMLModel",
            "_view_count": null,
            "_view_module": "@jupyter-widgets/controls",
            "_view_module_version": "1.5.0",
            "_view_name": "HTMLView",
            "description": "",
            "description_tooltip": null,
            "layout": "IPY_MODEL_69282827025c412db233e6b41ceebb28",
            "placeholder": "​",
            "style": "IPY_MODEL_35cedb5405cc4fb2b382114d4c798650",
            "value": " 9796/9796 [00:02&lt;00:00, 3066.53 examples/s]"
          }
        },
        "60154e5c9df54ea8bdbfa716a74e3474": {
          "model_module": "@jupyter-widgets/base",
          "model_module_version": "1.2.0",
          "model_name": "LayoutModel",
          "state": {
            "_model_module": "@jupyter-widgets/base",
            "_model_module_version": "1.2.0",
            "_model_name": "LayoutModel",
            "_view_count": null,
            "_view_module": "@jupyter-widgets/base",
            "_view_module_version": "1.2.0",
            "_view_name": "LayoutView",
            "align_content": null,
            "align_items": null,
            "align_self": null,
            "border": null,
            "bottom": null,
            "display": null,
            "flex": null,
            "flex_flow": null,
            "grid_area": null,
            "grid_auto_columns": null,
            "grid_auto_flow": null,
            "grid_auto_rows": null,
            "grid_column": null,
            "grid_gap": null,
            "grid_row": null,
            "grid_template_areas": null,
            "grid_template_columns": null,
            "grid_template_rows": null,
            "height": null,
            "justify_content": null,
            "justify_items": null,
            "left": null,
            "margin": null,
            "max_height": null,
            "max_width": null,
            "min_height": null,
            "min_width": null,
            "object_fit": null,
            "object_position": null,
            "order": null,
            "overflow": null,
            "overflow_x": null,
            "overflow_y": null,
            "padding": null,
            "right": null,
            "top": null,
            "visibility": null,
            "width": null
          }
        },
        "69282827025c412db233e6b41ceebb28": {
          "model_module": "@jupyter-widgets/base",
          "model_module_version": "1.2.0",
          "model_name": "LayoutModel",
          "state": {
            "_model_module": "@jupyter-widgets/base",
            "_model_module_version": "1.2.0",
            "_model_name": "LayoutModel",
            "_view_count": null,
            "_view_module": "@jupyter-widgets/base",
            "_view_module_version": "1.2.0",
            "_view_name": "LayoutView",
            "align_content": null,
            "align_items": null,
            "align_self": null,
            "border": null,
            "bottom": null,
            "display": null,
            "flex": null,
            "flex_flow": null,
            "grid_area": null,
            "grid_auto_columns": null,
            "grid_auto_flow": null,
            "grid_auto_rows": null,
            "grid_column": null,
            "grid_gap": null,
            "grid_row": null,
            "grid_template_areas": null,
            "grid_template_columns": null,
            "grid_template_rows": null,
            "height": null,
            "justify_content": null,
            "justify_items": null,
            "left": null,
            "margin": null,
            "max_height": null,
            "max_width": null,
            "min_height": null,
            "min_width": null,
            "object_fit": null,
            "object_position": null,
            "order": null,
            "overflow": null,
            "overflow_x": null,
            "overflow_y": null,
            "padding": null,
            "right": null,
            "top": null,
            "visibility": null,
            "width": null
          }
        },
        "6c7bca0bbbdb493182d38bc95db5472b": {
          "model_module": "@jupyter-widgets/controls",
          "model_module_version": "1.5.0",
          "model_name": "HBoxModel",
          "state": {
            "_dom_classes": [],
            "_model_module": "@jupyter-widgets/controls",
            "_model_module_version": "1.5.0",
            "_model_name": "HBoxModel",
            "_view_count": null,
            "_view_module": "@jupyter-widgets/controls",
            "_view_module_version": "1.5.0",
            "_view_name": "HBoxView",
            "box_style": "",
            "children": [
              "IPY_MODEL_dda8bfaabb0042b2b944238894486ce9",
              "IPY_MODEL_70baed61f5ab4b6ea853a8bc2d6aa685",
              "IPY_MODEL_dde1a15b966c48f5bb1116be5d0267c7"
            ],
            "layout": "IPY_MODEL_0115ebc946f34268af352f6c16a589cd"
          }
        },
        "6e034dd36684476381aa04d6e36ffe6a": {
          "model_module": "@jupyter-widgets/base",
          "model_module_version": "1.2.0",
          "model_name": "LayoutModel",
          "state": {
            "_model_module": "@jupyter-widgets/base",
            "_model_module_version": "1.2.0",
            "_model_name": "LayoutModel",
            "_view_count": null,
            "_view_module": "@jupyter-widgets/base",
            "_view_module_version": "1.2.0",
            "_view_name": "LayoutView",
            "align_content": null,
            "align_items": null,
            "align_self": null,
            "border": null,
            "bottom": null,
            "display": null,
            "flex": null,
            "flex_flow": null,
            "grid_area": null,
            "grid_auto_columns": null,
            "grid_auto_flow": null,
            "grid_auto_rows": null,
            "grid_column": null,
            "grid_gap": null,
            "grid_row": null,
            "grid_template_areas": null,
            "grid_template_columns": null,
            "grid_template_rows": null,
            "height": null,
            "justify_content": null,
            "justify_items": null,
            "left": null,
            "margin": null,
            "max_height": null,
            "max_width": null,
            "min_height": null,
            "min_width": null,
            "object_fit": null,
            "object_position": null,
            "order": null,
            "overflow": null,
            "overflow_x": null,
            "overflow_y": null,
            "padding": null,
            "right": null,
            "top": null,
            "visibility": null,
            "width": null
          }
        },
        "70baed61f5ab4b6ea853a8bc2d6aa685": {
          "model_module": "@jupyter-widgets/controls",
          "model_module_version": "1.5.0",
          "model_name": "FloatProgressModel",
          "state": {
            "_dom_classes": [],
            "_model_module": "@jupyter-widgets/controls",
            "_model_module_version": "1.5.0",
            "_model_name": "FloatProgressModel",
            "_view_count": null,
            "_view_module": "@jupyter-widgets/controls",
            "_view_module_version": "1.5.0",
            "_view_name": "ProgressView",
            "bar_style": "success",
            "description": "",
            "description_tooltip": null,
            "layout": "IPY_MODEL_2acd18c6414f454eb2c9588c683285a6",
            "max": 785,
            "min": 0,
            "orientation": "horizontal",
            "style": "IPY_MODEL_e1bdef7b702d410bb92453ac05fa1c80",
            "value": 785
          }
        },
        "7270f75926e34d94a7438d8a1c2fbd07": {
          "model_module": "@jupyter-widgets/base",
          "model_module_version": "1.2.0",
          "model_name": "LayoutModel",
          "state": {
            "_model_module": "@jupyter-widgets/base",
            "_model_module_version": "1.2.0",
            "_model_name": "LayoutModel",
            "_view_count": null,
            "_view_module": "@jupyter-widgets/base",
            "_view_module_version": "1.2.0",
            "_view_name": "LayoutView",
            "align_content": null,
            "align_items": null,
            "align_self": null,
            "border": null,
            "bottom": null,
            "display": null,
            "flex": null,
            "flex_flow": null,
            "grid_area": null,
            "grid_auto_columns": null,
            "grid_auto_flow": null,
            "grid_auto_rows": null,
            "grid_column": null,
            "grid_gap": null,
            "grid_row": null,
            "grid_template_areas": null,
            "grid_template_columns": null,
            "grid_template_rows": null,
            "height": null,
            "justify_content": null,
            "justify_items": null,
            "left": null,
            "margin": null,
            "max_height": null,
            "max_width": null,
            "min_height": null,
            "min_width": null,
            "object_fit": null,
            "object_position": null,
            "order": null,
            "overflow": null,
            "overflow_x": null,
            "overflow_y": null,
            "padding": null,
            "right": null,
            "top": null,
            "visibility": null,
            "width": null
          }
        },
        "72a8f19258714af1a57e9360cdf6a5c2": {
          "model_module": "@jupyter-widgets/base",
          "model_module_version": "1.2.0",
          "model_name": "LayoutModel",
          "state": {
            "_model_module": "@jupyter-widgets/base",
            "_model_module_version": "1.2.0",
            "_model_name": "LayoutModel",
            "_view_count": null,
            "_view_module": "@jupyter-widgets/base",
            "_view_module_version": "1.2.0",
            "_view_name": "LayoutView",
            "align_content": null,
            "align_items": null,
            "align_self": null,
            "border": null,
            "bottom": null,
            "display": null,
            "flex": null,
            "flex_flow": null,
            "grid_area": null,
            "grid_auto_columns": null,
            "grid_auto_flow": null,
            "grid_auto_rows": null,
            "grid_column": null,
            "grid_gap": null,
            "grid_row": null,
            "grid_template_areas": null,
            "grid_template_columns": null,
            "grid_template_rows": null,
            "height": null,
            "justify_content": null,
            "justify_items": null,
            "left": null,
            "margin": null,
            "max_height": null,
            "max_width": null,
            "min_height": null,
            "min_width": null,
            "object_fit": null,
            "object_position": null,
            "order": null,
            "overflow": null,
            "overflow_x": null,
            "overflow_y": null,
            "padding": null,
            "right": null,
            "top": null,
            "visibility": null,
            "width": null
          }
        },
        "7448c6fd8f654cb8920ca0756fa387aa": {
          "model_module": "@jupyter-widgets/controls",
          "model_module_version": "1.5.0",
          "model_name": "HTMLModel",
          "state": {
            "_dom_classes": [],
            "_model_module": "@jupyter-widgets/controls",
            "_model_module_version": "1.5.0",
            "_model_name": "HTMLModel",
            "_view_count": null,
            "_view_module": "@jupyter-widgets/controls",
            "_view_module_version": "1.5.0",
            "_view_name": "HTMLView",
            "description": "",
            "description_tooltip": null,
            "layout": "IPY_MODEL_72a8f19258714af1a57e9360cdf6a5c2",
            "placeholder": "​",
            "style": "IPY_MODEL_a975b3e2cce84618893c69fa99651ac0",
            "value": "Map: 100%"
          }
        },
        "750af2102fd4422296eef76064f1a4c8": {
          "model_module": "@jupyter-widgets/controls",
          "model_module_version": "1.5.0",
          "model_name": "FloatProgressModel",
          "state": {
            "_dom_classes": [],
            "_model_module": "@jupyter-widgets/controls",
            "_model_module_version": "1.5.0",
            "_model_name": "FloatProgressModel",
            "_view_count": null,
            "_view_module": "@jupyter-widgets/controls",
            "_view_module_version": "1.5.0",
            "_view_name": "ProgressView",
            "bar_style": "success",
            "description": "",
            "description_tooltip": null,
            "layout": "IPY_MODEL_ba09eb8879c74e3f9fdcc5ce611f938b",
            "max": 9796,
            "min": 0,
            "orientation": "horizontal",
            "style": "IPY_MODEL_305d5a59e42648d0a94fee3b3bfbeccc",
            "value": 9796
          }
        },
        "76b51663d4834ba187e8a9aa3bf19972": {
          "model_module": "@jupyter-widgets/controls",
          "model_module_version": "1.5.0",
          "model_name": "DescriptionStyleModel",
          "state": {
            "_model_module": "@jupyter-widgets/controls",
            "_model_module_version": "1.5.0",
            "_model_name": "DescriptionStyleModel",
            "_view_count": null,
            "_view_module": "@jupyter-widgets/base",
            "_view_module_version": "1.2.0",
            "_view_name": "StyleView",
            "description_width": ""
          }
        },
        "83981e51d31041e79c5d6c555ddb4a57": {
          "model_module": "@jupyter-widgets/controls",
          "model_module_version": "1.5.0",
          "model_name": "ProgressStyleModel",
          "state": {
            "_model_module": "@jupyter-widgets/controls",
            "_model_module_version": "1.5.0",
            "_model_name": "ProgressStyleModel",
            "_view_count": null,
            "_view_module": "@jupyter-widgets/base",
            "_view_module_version": "1.2.0",
            "_view_name": "StyleView",
            "bar_color": null,
            "description_width": ""
          }
        },
        "88cd4b3a6d6f4797891da94c5e1f0622": {
          "model_module": "@jupyter-widgets/controls",
          "model_module_version": "1.5.0",
          "model_name": "HTMLModel",
          "state": {
            "_dom_classes": [],
            "_model_module": "@jupyter-widgets/controls",
            "_model_module_version": "1.5.0",
            "_model_name": "HTMLModel",
            "_view_count": null,
            "_view_module": "@jupyter-widgets/controls",
            "_view_module_version": "1.5.0",
            "_view_name": "HTMLView",
            "description": "",
            "description_tooltip": null,
            "layout": "IPY_MODEL_f51907d071a34d909f4acd4b0ff9c21c",
            "placeholder": "​",
            "style": "IPY_MODEL_a0b2c15a19a14ce1a0950cbdacea0a19",
            "value": "Bottom Layer: 100%"
          }
        },
        "8b54e4a5867f44dc8f8d9751d88627bc": {
          "model_module": "@jupyter-widgets/base",
          "model_module_version": "1.2.0",
          "model_name": "LayoutModel",
          "state": {
            "_model_module": "@jupyter-widgets/base",
            "_model_module_version": "1.2.0",
            "_model_name": "LayoutModel",
            "_view_count": null,
            "_view_module": "@jupyter-widgets/base",
            "_view_module_version": "1.2.0",
            "_view_name": "LayoutView",
            "align_content": null,
            "align_items": null,
            "align_self": null,
            "border": null,
            "bottom": null,
            "display": null,
            "flex": null,
            "flex_flow": null,
            "grid_area": null,
            "grid_auto_columns": null,
            "grid_auto_flow": null,
            "grid_auto_rows": null,
            "grid_column": null,
            "grid_gap": null,
            "grid_row": null,
            "grid_template_areas": null,
            "grid_template_columns": null,
            "grid_template_rows": null,
            "height": null,
            "justify_content": null,
            "justify_items": null,
            "left": null,
            "margin": null,
            "max_height": null,
            "max_width": null,
            "min_height": null,
            "min_width": null,
            "object_fit": null,
            "object_position": null,
            "order": null,
            "overflow": null,
            "overflow_x": null,
            "overflow_y": null,
            "padding": null,
            "right": null,
            "top": null,
            "visibility": null,
            "width": null
          }
        },
        "8bf779da0b0343eda34b10d8043822da": {
          "model_module": "@jupyter-widgets/base",
          "model_module_version": "1.2.0",
          "model_name": "LayoutModel",
          "state": {
            "_model_module": "@jupyter-widgets/base",
            "_model_module_version": "1.2.0",
            "_model_name": "LayoutModel",
            "_view_count": null,
            "_view_module": "@jupyter-widgets/base",
            "_view_module_version": "1.2.0",
            "_view_name": "LayoutView",
            "align_content": null,
            "align_items": null,
            "align_self": null,
            "border": null,
            "bottom": null,
            "display": null,
            "flex": null,
            "flex_flow": null,
            "grid_area": null,
            "grid_auto_columns": null,
            "grid_auto_flow": null,
            "grid_auto_rows": null,
            "grid_column": null,
            "grid_gap": null,
            "grid_row": null,
            "grid_template_areas": null,
            "grid_template_columns": null,
            "grid_template_rows": null,
            "height": null,
            "justify_content": null,
            "justify_items": null,
            "left": null,
            "margin": null,
            "max_height": null,
            "max_width": null,
            "min_height": null,
            "min_width": null,
            "object_fit": null,
            "object_position": null,
            "order": null,
            "overflow": null,
            "overflow_x": null,
            "overflow_y": null,
            "padding": null,
            "right": null,
            "top": null,
            "visibility": null,
            "width": null
          }
        },
        "9e9bc472df4f44fda80a2a2dee77e608": {
          "model_module": "@jupyter-widgets/controls",
          "model_module_version": "1.5.0",
          "model_name": "DescriptionStyleModel",
          "state": {
            "_model_module": "@jupyter-widgets/controls",
            "_model_module_version": "1.5.0",
            "_model_name": "DescriptionStyleModel",
            "_view_count": null,
            "_view_module": "@jupyter-widgets/base",
            "_view_module_version": "1.2.0",
            "_view_name": "StyleView",
            "description_width": ""
          }
        },
        "9f589a6983484ff0b5fadfe3b946efb3": {
          "model_module": "@jupyter-widgets/controls",
          "model_module_version": "1.5.0",
          "model_name": "HTMLModel",
          "state": {
            "_dom_classes": [],
            "_model_module": "@jupyter-widgets/controls",
            "_model_module_version": "1.5.0",
            "_model_name": "HTMLModel",
            "_view_count": null,
            "_view_module": "@jupyter-widgets/controls",
            "_view_module_version": "1.5.0",
            "_view_name": "HTMLView",
            "description": "",
            "description_tooltip": null,
            "layout": "IPY_MODEL_14dc41aa8da44878b0460a4ad158a4d6",
            "placeholder": "​",
            "style": "IPY_MODEL_f2cd4fc178304cb9b540ddffaae7f348",
            "value": " 785/785 [50:48&lt;00:00,  1.48it/s]"
          }
        },
        "a0b2c15a19a14ce1a0950cbdacea0a19": {
          "model_module": "@jupyter-widgets/controls",
          "model_module_version": "1.5.0",
          "model_name": "DescriptionStyleModel",
          "state": {
            "_model_module": "@jupyter-widgets/controls",
            "_model_module_version": "1.5.0",
            "_model_name": "DescriptionStyleModel",
            "_view_count": null,
            "_view_module": "@jupyter-widgets/base",
            "_view_module_version": "1.2.0",
            "_view_name": "StyleView",
            "description_width": ""
          }
        },
        "a1fce3c8c33f47bb97b31dbbb0ae16ad": {
          "model_module": "@jupyter-widgets/base",
          "model_module_version": "1.2.0",
          "model_name": "LayoutModel",
          "state": {
            "_model_module": "@jupyter-widgets/base",
            "_model_module_version": "1.2.0",
            "_model_name": "LayoutModel",
            "_view_count": null,
            "_view_module": "@jupyter-widgets/base",
            "_view_module_version": "1.2.0",
            "_view_name": "LayoutView",
            "align_content": null,
            "align_items": null,
            "align_self": null,
            "border": null,
            "bottom": null,
            "display": null,
            "flex": null,
            "flex_flow": null,
            "grid_area": null,
            "grid_auto_columns": null,
            "grid_auto_flow": null,
            "grid_auto_rows": null,
            "grid_column": null,
            "grid_gap": null,
            "grid_row": null,
            "grid_template_areas": null,
            "grid_template_columns": null,
            "grid_template_rows": null,
            "height": null,
            "justify_content": null,
            "justify_items": null,
            "left": null,
            "margin": null,
            "max_height": null,
            "max_width": null,
            "min_height": null,
            "min_width": null,
            "object_fit": null,
            "object_position": null,
            "order": null,
            "overflow": null,
            "overflow_x": null,
            "overflow_y": null,
            "padding": null,
            "right": null,
            "top": null,
            "visibility": null,
            "width": null
          }
        },
        "a63cc74b924b44fa8b2767a6682e20a2": {
          "model_module": "@jupyter-widgets/controls",
          "model_module_version": "1.5.0",
          "model_name": "HTMLModel",
          "state": {
            "_dom_classes": [],
            "_model_module": "@jupyter-widgets/controls",
            "_model_module_version": "1.5.0",
            "_model_name": "HTMLModel",
            "_view_count": null,
            "_view_module": "@jupyter-widgets/controls",
            "_view_module_version": "1.5.0",
            "_view_name": "HTMLView",
            "description": "",
            "description_tooltip": null,
            "layout": "IPY_MODEL_c1cfe9e9eabf4eed8ae6b3e899721e4e",
            "placeholder": "​",
            "style": "IPY_MODEL_9e9bc472df4f44fda80a2a2dee77e608",
            "value": "Even Layer: 100%"
          }
        },
        "a69a0ca53533488b8d3233fea305c655": {
          "model_module": "@jupyter-widgets/controls",
          "model_module_version": "1.5.0",
          "model_name": "DescriptionStyleModel",
          "state": {
            "_model_module": "@jupyter-widgets/controls",
            "_model_module_version": "1.5.0",
            "_model_name": "DescriptionStyleModel",
            "_view_count": null,
            "_view_module": "@jupyter-widgets/base",
            "_view_module_version": "1.2.0",
            "_view_name": "StyleView",
            "description_width": ""
          }
        },
        "a953a1a74b0947eeb3cdebd6effb9c6d": {
          "model_module": "@jupyter-widgets/controls",
          "model_module_version": "1.5.0",
          "model_name": "DescriptionStyleModel",
          "state": {
            "_model_module": "@jupyter-widgets/controls",
            "_model_module_version": "1.5.0",
            "_model_name": "DescriptionStyleModel",
            "_view_count": null,
            "_view_module": "@jupyter-widgets/base",
            "_view_module_version": "1.2.0",
            "_view_name": "StyleView",
            "description_width": ""
          }
        },
        "a975b3e2cce84618893c69fa99651ac0": {
          "model_module": "@jupyter-widgets/controls",
          "model_module_version": "1.5.0",
          "model_name": "DescriptionStyleModel",
          "state": {
            "_model_module": "@jupyter-widgets/controls",
            "_model_module_version": "1.5.0",
            "_model_name": "DescriptionStyleModel",
            "_view_count": null,
            "_view_module": "@jupyter-widgets/base",
            "_view_module_version": "1.2.0",
            "_view_name": "StyleView",
            "description_width": ""
          }
        },
        "b9d392551c4040f7946bd951b19175cc": {
          "model_module": "@jupyter-widgets/base",
          "model_module_version": "1.2.0",
          "model_name": "LayoutModel",
          "state": {
            "_model_module": "@jupyter-widgets/base",
            "_model_module_version": "1.2.0",
            "_model_name": "LayoutModel",
            "_view_count": null,
            "_view_module": "@jupyter-widgets/base",
            "_view_module_version": "1.2.0",
            "_view_name": "LayoutView",
            "align_content": null,
            "align_items": null,
            "align_self": null,
            "border": null,
            "bottom": null,
            "display": null,
            "flex": null,
            "flex_flow": null,
            "grid_area": null,
            "grid_auto_columns": null,
            "grid_auto_flow": null,
            "grid_auto_rows": null,
            "grid_column": null,
            "grid_gap": null,
            "grid_row": null,
            "grid_template_areas": null,
            "grid_template_columns": null,
            "grid_template_rows": null,
            "height": null,
            "justify_content": null,
            "justify_items": null,
            "left": null,
            "margin": null,
            "max_height": null,
            "max_width": null,
            "min_height": null,
            "min_width": null,
            "object_fit": null,
            "object_position": null,
            "order": null,
            "overflow": null,
            "overflow_x": null,
            "overflow_y": null,
            "padding": null,
            "right": null,
            "top": null,
            "visibility": null,
            "width": null
          }
        },
        "ba09eb8879c74e3f9fdcc5ce611f938b": {
          "model_module": "@jupyter-widgets/base",
          "model_module_version": "1.2.0",
          "model_name": "LayoutModel",
          "state": {
            "_model_module": "@jupyter-widgets/base",
            "_model_module_version": "1.2.0",
            "_model_name": "LayoutModel",
            "_view_count": null,
            "_view_module": "@jupyter-widgets/base",
            "_view_module_version": "1.2.0",
            "_view_name": "LayoutView",
            "align_content": null,
            "align_items": null,
            "align_self": null,
            "border": null,
            "bottom": null,
            "display": null,
            "flex": null,
            "flex_flow": null,
            "grid_area": null,
            "grid_auto_columns": null,
            "grid_auto_flow": null,
            "grid_auto_rows": null,
            "grid_column": null,
            "grid_gap": null,
            "grid_row": null,
            "grid_template_areas": null,
            "grid_template_columns": null,
            "grid_template_rows": null,
            "height": null,
            "justify_content": null,
            "justify_items": null,
            "left": null,
            "margin": null,
            "max_height": null,
            "max_width": null,
            "min_height": null,
            "min_width": null,
            "object_fit": null,
            "object_position": null,
            "order": null,
            "overflow": null,
            "overflow_x": null,
            "overflow_y": null,
            "padding": null,
            "right": null,
            "top": null,
            "visibility": null,
            "width": null
          }
        },
        "bde724b3b3974c629366b6f75e2a0d16": {
          "model_module": "@jupyter-widgets/controls",
          "model_module_version": "1.5.0",
          "model_name": "HTMLModel",
          "state": {
            "_dom_classes": [],
            "_model_module": "@jupyter-widgets/controls",
            "_model_module_version": "1.5.0",
            "_model_name": "HTMLModel",
            "_view_count": null,
            "_view_module": "@jupyter-widgets/controls",
            "_view_module_version": "1.5.0",
            "_view_name": "HTMLView",
            "description": "",
            "description_tooltip": null,
            "layout": "IPY_MODEL_e9b59c61d9b6445197d72f19e1fc43bd",
            "placeholder": "​",
            "style": "IPY_MODEL_a69a0ca53533488b8d3233fea305c655",
            "value": " 785/785 [40:11&lt;00:00,  1.66it/s]"
          }
        },
        "bf5231a41d8443f383f8ae1c500551b0": {
          "model_module": "@jupyter-widgets/controls",
          "model_module_version": "1.5.0",
          "model_name": "DescriptionStyleModel",
          "state": {
            "_model_module": "@jupyter-widgets/controls",
            "_model_module_version": "1.5.0",
            "_model_name": "DescriptionStyleModel",
            "_view_count": null,
            "_view_module": "@jupyter-widgets/base",
            "_view_module_version": "1.2.0",
            "_view_name": "StyleView",
            "description_width": ""
          }
        },
        "c09d2fe1d1ce4792910c472dbed8cf22": {
          "model_module": "@jupyter-widgets/controls",
          "model_module_version": "1.5.0",
          "model_name": "HTMLModel",
          "state": {
            "_dom_classes": [],
            "_model_module": "@jupyter-widgets/controls",
            "_model_module_version": "1.5.0",
            "_model_name": "HTMLModel",
            "_view_count": null,
            "_view_module": "@jupyter-widgets/controls",
            "_view_module_version": "1.5.0",
            "_view_name": "HTMLView",
            "description": "",
            "description_tooltip": null,
            "layout": "IPY_MODEL_e0b0773064e64fb4938273a60c113130",
            "placeholder": "​",
            "style": "IPY_MODEL_c2ca4114d61f458aabeae9d017cbdec7",
            "value": " 785/785 [12:01&lt;00:00,  1.15it/s]"
          }
        },
        "c1cfe9e9eabf4eed8ae6b3e899721e4e": {
          "model_module": "@jupyter-widgets/base",
          "model_module_version": "1.2.0",
          "model_name": "LayoutModel",
          "state": {
            "_model_module": "@jupyter-widgets/base",
            "_model_module_version": "1.2.0",
            "_model_name": "LayoutModel",
            "_view_count": null,
            "_view_module": "@jupyter-widgets/base",
            "_view_module_version": "1.2.0",
            "_view_name": "LayoutView",
            "align_content": null,
            "align_items": null,
            "align_self": null,
            "border": null,
            "bottom": null,
            "display": null,
            "flex": null,
            "flex_flow": null,
            "grid_area": null,
            "grid_auto_columns": null,
            "grid_auto_flow": null,
            "grid_auto_rows": null,
            "grid_column": null,
            "grid_gap": null,
            "grid_row": null,
            "grid_template_areas": null,
            "grid_template_columns": null,
            "grid_template_rows": null,
            "height": null,
            "justify_content": null,
            "justify_items": null,
            "left": null,
            "margin": null,
            "max_height": null,
            "max_width": null,
            "min_height": null,
            "min_width": null,
            "object_fit": null,
            "object_position": null,
            "order": null,
            "overflow": null,
            "overflow_x": null,
            "overflow_y": null,
            "padding": null,
            "right": null,
            "top": null,
            "visibility": null,
            "width": null
          }
        },
        "c2ca4114d61f458aabeae9d017cbdec7": {
          "model_module": "@jupyter-widgets/controls",
          "model_module_version": "1.5.0",
          "model_name": "DescriptionStyleModel",
          "state": {
            "_model_module": "@jupyter-widgets/controls",
            "_model_module_version": "1.5.0",
            "_model_name": "DescriptionStyleModel",
            "_view_count": null,
            "_view_module": "@jupyter-widgets/base",
            "_view_module_version": "1.2.0",
            "_view_name": "StyleView",
            "description_width": ""
          }
        },
        "c68e1a88931242b8afb830e0993f3cfc": {
          "model_module": "@jupyter-widgets/base",
          "model_module_version": "1.2.0",
          "model_name": "LayoutModel",
          "state": {
            "_model_module": "@jupyter-widgets/base",
            "_model_module_version": "1.2.0",
            "_model_name": "LayoutModel",
            "_view_count": null,
            "_view_module": "@jupyter-widgets/base",
            "_view_module_version": "1.2.0",
            "_view_name": "LayoutView",
            "align_content": null,
            "align_items": null,
            "align_self": null,
            "border": null,
            "bottom": null,
            "display": null,
            "flex": null,
            "flex_flow": null,
            "grid_area": null,
            "grid_auto_columns": null,
            "grid_auto_flow": null,
            "grid_auto_rows": null,
            "grid_column": null,
            "grid_gap": null,
            "grid_row": null,
            "grid_template_areas": null,
            "grid_template_columns": null,
            "grid_template_rows": null,
            "height": null,
            "justify_content": null,
            "justify_items": null,
            "left": null,
            "margin": null,
            "max_height": null,
            "max_width": null,
            "min_height": null,
            "min_width": null,
            "object_fit": null,
            "object_position": null,
            "order": null,
            "overflow": null,
            "overflow_x": null,
            "overflow_y": null,
            "padding": null,
            "right": null,
            "top": null,
            "visibility": null,
            "width": null
          }
        },
        "cd69eb6ab7f34613ad9b32d7ac7c16e1": {
          "model_module": "@jupyter-widgets/base",
          "model_module_version": "1.2.0",
          "model_name": "LayoutModel",
          "state": {
            "_model_module": "@jupyter-widgets/base",
            "_model_module_version": "1.2.0",
            "_model_name": "LayoutModel",
            "_view_count": null,
            "_view_module": "@jupyter-widgets/base",
            "_view_module_version": "1.2.0",
            "_view_name": "LayoutView",
            "align_content": null,
            "align_items": null,
            "align_self": null,
            "border": null,
            "bottom": null,
            "display": null,
            "flex": null,
            "flex_flow": null,
            "grid_area": null,
            "grid_auto_columns": null,
            "grid_auto_flow": null,
            "grid_auto_rows": null,
            "grid_column": null,
            "grid_gap": null,
            "grid_row": null,
            "grid_template_areas": null,
            "grid_template_columns": null,
            "grid_template_rows": null,
            "height": null,
            "justify_content": null,
            "justify_items": null,
            "left": null,
            "margin": null,
            "max_height": null,
            "max_width": null,
            "min_height": null,
            "min_width": null,
            "object_fit": null,
            "object_position": null,
            "order": null,
            "overflow": null,
            "overflow_x": null,
            "overflow_y": null,
            "padding": null,
            "right": null,
            "top": null,
            "visibility": null,
            "width": null
          }
        },
        "dc492074569d4fc68ac256af15f3ce55": {
          "model_module": "@jupyter-widgets/controls",
          "model_module_version": "1.5.0",
          "model_name": "FloatProgressModel",
          "state": {
            "_dom_classes": [],
            "_model_module": "@jupyter-widgets/controls",
            "_model_module_version": "1.5.0",
            "_model_name": "FloatProgressModel",
            "_view_count": null,
            "_view_module": "@jupyter-widgets/controls",
            "_view_module_version": "1.5.0",
            "_view_name": "ProgressView",
            "bar_style": "success",
            "description": "",
            "description_tooltip": null,
            "layout": "IPY_MODEL_e736893ffcff4e1abbfbbe7b99226306",
            "max": 785,
            "min": 0,
            "orientation": "horizontal",
            "style": "IPY_MODEL_83981e51d31041e79c5d6c555ddb4a57",
            "value": 785
          }
        },
        "dd7f1ca0716b492ab1c97b2aa2b6b45b": {
          "model_module": "@jupyter-widgets/controls",
          "model_module_version": "1.5.0",
          "model_name": "ProgressStyleModel",
          "state": {
            "_model_module": "@jupyter-widgets/controls",
            "_model_module_version": "1.5.0",
            "_model_name": "ProgressStyleModel",
            "_view_count": null,
            "_view_module": "@jupyter-widgets/base",
            "_view_module_version": "1.2.0",
            "_view_name": "StyleView",
            "bar_color": null,
            "description_width": ""
          }
        },
        "dda8bfaabb0042b2b944238894486ce9": {
          "model_module": "@jupyter-widgets/controls",
          "model_module_version": "1.5.0",
          "model_name": "HTMLModel",
          "state": {
            "_dom_classes": [],
            "_model_module": "@jupyter-widgets/controls",
            "_model_module_version": "1.5.0",
            "_model_name": "HTMLModel",
            "_view_count": null,
            "_view_module": "@jupyter-widgets/controls",
            "_view_module_version": "1.5.0",
            "_view_name": "HTMLView",
            "description": "",
            "description_tooltip": null,
            "layout": "IPY_MODEL_332f080d30e941f9b3fb10e459e11150",
            "placeholder": "​",
            "style": "IPY_MODEL_a953a1a74b0947eeb3cdebd6effb9c6d",
            "value": "Top Layer: 100%"
          }
        },
        "dde1a15b966c48f5bb1116be5d0267c7": {
          "model_module": "@jupyter-widgets/controls",
          "model_module_version": "1.5.0",
          "model_name": "HTMLModel",
          "state": {
            "_dom_classes": [],
            "_model_module": "@jupyter-widgets/controls",
            "_model_module_version": "1.5.0",
            "_model_name": "HTMLModel",
            "_view_count": null,
            "_view_module": "@jupyter-widgets/controls",
            "_view_module_version": "1.5.0",
            "_view_name": "HTMLView",
            "description": "",
            "description_tooltip": null,
            "layout": "IPY_MODEL_60154e5c9df54ea8bdbfa716a74e3474",
            "placeholder": "​",
            "style": "IPY_MODEL_53756e46ff8a411f90cd9b67bbe90cdc",
            "value": " 785/785 [1:11:55&lt;00:00,  1.66it/s]"
          }
        },
        "e0b0773064e64fb4938273a60c113130": {
          "model_module": "@jupyter-widgets/base",
          "model_module_version": "1.2.0",
          "model_name": "LayoutModel",
          "state": {
            "_model_module": "@jupyter-widgets/base",
            "_model_module_version": "1.2.0",
            "_model_name": "LayoutModel",
            "_view_count": null,
            "_view_module": "@jupyter-widgets/base",
            "_view_module_version": "1.2.0",
            "_view_name": "LayoutView",
            "align_content": null,
            "align_items": null,
            "align_self": null,
            "border": null,
            "bottom": null,
            "display": null,
            "flex": null,
            "flex_flow": null,
            "grid_area": null,
            "grid_auto_columns": null,
            "grid_auto_flow": null,
            "grid_auto_rows": null,
            "grid_column": null,
            "grid_gap": null,
            "grid_row": null,
            "grid_template_areas": null,
            "grid_template_columns": null,
            "grid_template_rows": null,
            "height": null,
            "justify_content": null,
            "justify_items": null,
            "left": null,
            "margin": null,
            "max_height": null,
            "max_width": null,
            "min_height": null,
            "min_width": null,
            "object_fit": null,
            "object_position": null,
            "order": null,
            "overflow": null,
            "overflow_x": null,
            "overflow_y": null,
            "padding": null,
            "right": null,
            "top": null,
            "visibility": null,
            "width": null
          }
        },
        "e1bdef7b702d410bb92453ac05fa1c80": {
          "model_module": "@jupyter-widgets/controls",
          "model_module_version": "1.5.0",
          "model_name": "ProgressStyleModel",
          "state": {
            "_model_module": "@jupyter-widgets/controls",
            "_model_module_version": "1.5.0",
            "_model_name": "ProgressStyleModel",
            "_view_count": null,
            "_view_module": "@jupyter-widgets/base",
            "_view_module_version": "1.2.0",
            "_view_name": "StyleView",
            "bar_color": null,
            "description_width": ""
          }
        },
        "e4e41bacdb9f4167a783d37f2181ab0f": {
          "model_module": "@jupyter-widgets/controls",
          "model_module_version": "1.5.0",
          "model_name": "HTMLModel",
          "state": {
            "_dom_classes": [],
            "_model_module": "@jupyter-widgets/controls",
            "_model_module_version": "1.5.0",
            "_model_name": "HTMLModel",
            "_view_count": null,
            "_view_module": "@jupyter-widgets/controls",
            "_view_module_version": "1.5.0",
            "_view_name": "HTMLView",
            "description": "",
            "description_tooltip": null,
            "layout": "IPY_MODEL_7270f75926e34d94a7438d8a1c2fbd07",
            "placeholder": "​",
            "style": "IPY_MODEL_bf5231a41d8443f383f8ae1c500551b0",
            "value": "100%"
          }
        },
        "e736893ffcff4e1abbfbbe7b99226306": {
          "model_module": "@jupyter-widgets/base",
          "model_module_version": "1.2.0",
          "model_name": "LayoutModel",
          "state": {
            "_model_module": "@jupyter-widgets/base",
            "_model_module_version": "1.2.0",
            "_model_name": "LayoutModel",
            "_view_count": null,
            "_view_module": "@jupyter-widgets/base",
            "_view_module_version": "1.2.0",
            "_view_name": "LayoutView",
            "align_content": null,
            "align_items": null,
            "align_self": null,
            "border": null,
            "bottom": null,
            "display": null,
            "flex": null,
            "flex_flow": null,
            "grid_area": null,
            "grid_auto_columns": null,
            "grid_auto_flow": null,
            "grid_auto_rows": null,
            "grid_column": null,
            "grid_gap": null,
            "grid_row": null,
            "grid_template_areas": null,
            "grid_template_columns": null,
            "grid_template_rows": null,
            "height": null,
            "justify_content": null,
            "justify_items": null,
            "left": null,
            "margin": null,
            "max_height": null,
            "max_width": null,
            "min_height": null,
            "min_width": null,
            "object_fit": null,
            "object_position": null,
            "order": null,
            "overflow": null,
            "overflow_x": null,
            "overflow_y": null,
            "padding": null,
            "right": null,
            "top": null,
            "visibility": null,
            "width": null
          }
        },
        "e759910b83a04de6ac6f1673c7e32a9f": {
          "model_module": "@jupyter-widgets/controls",
          "model_module_version": "1.5.0",
          "model_name": "HBoxModel",
          "state": {
            "_dom_classes": [],
            "_model_module": "@jupyter-widgets/controls",
            "_model_module_version": "1.5.0",
            "_model_name": "HBoxModel",
            "_view_count": null,
            "_view_module": "@jupyter-widgets/controls",
            "_view_module_version": "1.5.0",
            "_view_name": "HBoxView",
            "box_style": "",
            "children": [
              "IPY_MODEL_88cd4b3a6d6f4797891da94c5e1f0622",
              "IPY_MODEL_dc492074569d4fc68ac256af15f3ce55",
              "IPY_MODEL_39ea50a4a4ae40fda865b7b8d8bca9e1"
            ],
            "layout": "IPY_MODEL_c68e1a88931242b8afb830e0993f3cfc"
          }
        },
        "e9b59c61d9b6445197d72f19e1fc43bd": {
          "model_module": "@jupyter-widgets/base",
          "model_module_version": "1.2.0",
          "model_name": "LayoutModel",
          "state": {
            "_model_module": "@jupyter-widgets/base",
            "_model_module_version": "1.2.0",
            "_model_name": "LayoutModel",
            "_view_count": null,
            "_view_module": "@jupyter-widgets/base",
            "_view_module_version": "1.2.0",
            "_view_name": "LayoutView",
            "align_content": null,
            "align_items": null,
            "align_self": null,
            "border": null,
            "bottom": null,
            "display": null,
            "flex": null,
            "flex_flow": null,
            "grid_area": null,
            "grid_auto_columns": null,
            "grid_auto_flow": null,
            "grid_auto_rows": null,
            "grid_column": null,
            "grid_gap": null,
            "grid_row": null,
            "grid_template_areas": null,
            "grid_template_columns": null,
            "grid_template_rows": null,
            "height": null,
            "justify_content": null,
            "justify_items": null,
            "left": null,
            "margin": null,
            "max_height": null,
            "max_width": null,
            "min_height": null,
            "min_width": null,
            "object_fit": null,
            "object_position": null,
            "order": null,
            "overflow": null,
            "overflow_x": null,
            "overflow_y": null,
            "padding": null,
            "right": null,
            "top": null,
            "visibility": null,
            "width": null
          }
        },
        "f02187aeed4a488fb994d80bf920d9b4": {
          "model_module": "@jupyter-widgets/base",
          "model_module_version": "1.2.0",
          "model_name": "LayoutModel",
          "state": {
            "_model_module": "@jupyter-widgets/base",
            "_model_module_version": "1.2.0",
            "_model_name": "LayoutModel",
            "_view_count": null,
            "_view_module": "@jupyter-widgets/base",
            "_view_module_version": "1.2.0",
            "_view_name": "LayoutView",
            "align_content": null,
            "align_items": null,
            "align_self": null,
            "border": null,
            "bottom": null,
            "display": null,
            "flex": null,
            "flex_flow": null,
            "grid_area": null,
            "grid_auto_columns": null,
            "grid_auto_flow": null,
            "grid_auto_rows": null,
            "grid_column": null,
            "grid_gap": null,
            "grid_row": null,
            "grid_template_areas": null,
            "grid_template_columns": null,
            "grid_template_rows": null,
            "height": null,
            "justify_content": null,
            "justify_items": null,
            "left": null,
            "margin": null,
            "max_height": null,
            "max_width": null,
            "min_height": null,
            "min_width": null,
            "object_fit": null,
            "object_position": null,
            "order": null,
            "overflow": null,
            "overflow_x": null,
            "overflow_y": null,
            "padding": null,
            "right": null,
            "top": null,
            "visibility": null,
            "width": null
          }
        },
        "f2cd4fc178304cb9b540ddffaae7f348": {
          "model_module": "@jupyter-widgets/controls",
          "model_module_version": "1.5.0",
          "model_name": "DescriptionStyleModel",
          "state": {
            "_model_module": "@jupyter-widgets/controls",
            "_model_module_version": "1.5.0",
            "_model_name": "DescriptionStyleModel",
            "_view_count": null,
            "_view_module": "@jupyter-widgets/base",
            "_view_module_version": "1.2.0",
            "_view_name": "StyleView",
            "description_width": ""
          }
        },
        "f51907d071a34d909f4acd4b0ff9c21c": {
          "model_module": "@jupyter-widgets/base",
          "model_module_version": "1.2.0",
          "model_name": "LayoutModel",
          "state": {
            "_model_module": "@jupyter-widgets/base",
            "_model_module_version": "1.2.0",
            "_model_name": "LayoutModel",
            "_view_count": null,
            "_view_module": "@jupyter-widgets/base",
            "_view_module_version": "1.2.0",
            "_view_name": "LayoutView",
            "align_content": null,
            "align_items": null,
            "align_self": null,
            "border": null,
            "bottom": null,
            "display": null,
            "flex": null,
            "flex_flow": null,
            "grid_area": null,
            "grid_auto_columns": null,
            "grid_auto_flow": null,
            "grid_auto_rows": null,
            "grid_column": null,
            "grid_gap": null,
            "grid_row": null,
            "grid_template_areas": null,
            "grid_template_columns": null,
            "grid_template_rows": null,
            "height": null,
            "justify_content": null,
            "justify_items": null,
            "left": null,
            "margin": null,
            "max_height": null,
            "max_width": null,
            "min_height": null,
            "min_width": null,
            "object_fit": null,
            "object_position": null,
            "order": null,
            "overflow": null,
            "overflow_x": null,
            "overflow_y": null,
            "padding": null,
            "right": null,
            "top": null,
            "visibility": null,
            "width": null
          }
        },
        "f998b87f1a3b41659265783aefe99edd": {
          "model_module": "@jupyter-widgets/controls",
          "model_module_version": "1.5.0",
          "model_name": "HBoxModel",
          "state": {
            "_dom_classes": [],
            "_model_module": "@jupyter-widgets/controls",
            "_model_module_version": "1.5.0",
            "_model_name": "HBoxModel",
            "_view_count": null,
            "_view_module": "@jupyter-widgets/controls",
            "_view_module_version": "1.5.0",
            "_view_name": "HBoxView",
            "box_style": "",
            "children": [
              "IPY_MODEL_a63cc74b924b44fa8b2767a6682e20a2",
              "IPY_MODEL_4222216912de47f387e5d097e38abf05",
              "IPY_MODEL_bde724b3b3974c629366b6f75e2a0d16"
            ],
            "layout": "IPY_MODEL_6e034dd36684476381aa04d6e36ffe6a"
          }
        },
        "fb816a9742224b34984050e9d1061577": {
          "model_module": "@jupyter-widgets/controls",
          "model_module_version": "1.5.0",
          "model_name": "FloatProgressModel",
          "state": {
            "_dom_classes": [],
            "_model_module": "@jupyter-widgets/controls",
            "_model_module_version": "1.5.0",
            "_model_name": "FloatProgressModel",
            "_view_count": null,
            "_view_module": "@jupyter-widgets/controls",
            "_view_module_version": "1.5.0",
            "_view_name": "ProgressView",
            "bar_style": "success",
            "description": "",
            "description_tooltip": null,
            "layout": "IPY_MODEL_b9d392551c4040f7946bd951b19175cc",
            "max": 785,
            "min": 0,
            "orientation": "horizontal",
            "style": "IPY_MODEL_0d1bb9a508b34d4a946bb3d17d0e32bc",
            "value": 785
          }
        },
        "fdeae0c06ddf40e3990cfdfad54b43a6": {
          "model_module": "@jupyter-widgets/base",
          "model_module_version": "1.2.0",
          "model_name": "LayoutModel",
          "state": {
            "_model_module": "@jupyter-widgets/base",
            "_model_module_version": "1.2.0",
            "_model_name": "LayoutModel",
            "_view_count": null,
            "_view_module": "@jupyter-widgets/base",
            "_view_module_version": "1.2.0",
            "_view_name": "LayoutView",
            "align_content": null,
            "align_items": null,
            "align_self": null,
            "border": null,
            "bottom": null,
            "display": null,
            "flex": null,
            "flex_flow": null,
            "grid_area": null,
            "grid_auto_columns": null,
            "grid_auto_flow": null,
            "grid_auto_rows": null,
            "grid_column": null,
            "grid_gap": null,
            "grid_row": null,
            "grid_template_areas": null,
            "grid_template_columns": null,
            "grid_template_rows": null,
            "height": null,
            "justify_content": null,
            "justify_items": null,
            "left": null,
            "margin": null,
            "max_height": null,
            "max_width": null,
            "min_height": null,
            "min_width": null,
            "object_fit": null,
            "object_position": null,
            "order": null,
            "overflow": null,
            "overflow_x": null,
            "overflow_y": null,
            "padding": null,
            "right": null,
            "top": null,
            "visibility": null,
            "width": null
          }
        }
      }
    }
  },
  "nbformat": 4,
  "nbformat_minor": 0
}
